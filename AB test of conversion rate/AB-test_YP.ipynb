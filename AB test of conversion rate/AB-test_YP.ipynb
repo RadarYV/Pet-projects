{
 "cells": [
  {
   "cell_type": "markdown",
   "id": "20b2df2f",
   "metadata": {},
   "source": [
    "<p style=\"font-size:25pt; font-weight:bold\">A/B TEST</p>"
   ]
  },
  {
   "cell_type": "markdown",
   "id": "2b50ca4e",
   "metadata": {},
   "source": [
    "# Description"
   ]
  },
  {
   "cell_type": "markdown",
   "id": "546bcfe2",
   "metadata": {},
   "source": [
    "We want to perform AB test. We test customer conversion rates in two groups A and B (without and with block of reccomendations on our website)\n",
    "\n",
    "Task:\n",
    "1. Plan a test\n",
    " - Calc sample sizes\n",
    "2. Load results of the test\n",
    "3. Evaluate results\n",
    " - calc p-values, power of test\n",
    "4. Make a decision<br>\n",
    "    options are: \n",
    "    1. stop the test. One of groups has won.\n",
    "    2. stop the test, there was no effect.\n",
    "    3. proceed the test."
   ]
  },
  {
   "cell_type": "markdown",
   "id": "709a2250",
   "metadata": {},
   "source": [
    "# A priori"
   ]
  },
  {
   "cell_type": "markdown",
   "id": "a9d50e4f",
   "metadata": {},
   "source": [
    "We expect to achieve conversion growth from 2.3% to 2.8%\n",
    "\n",
    "**Task:**<br>\n",
    "Compute required samples sizes for required effect with acceptable 1st and 2nd type errors\n",
    "- $\\alpha$ (I-type error, false reject $H_{0}$), \n",
    "- $\\beta$ (II-type error, false accept $H_0$, 1-power)\n",
    "\n",
    "We set alpha = 5% and beta=10%"
   ]
  },
  {
   "cell_type": "code",
   "execution_count": 19,
   "id": "4b541fa2",
   "metadata": {},
   "outputs": [],
   "source": [
    "import pandas as pd\n",
    "import numpy as np\n",
    "from matplotlib import pyplot as plt\n",
    "import seaborn as sns\n",
    "\n",
    "\n",
    "import scipy.stats as stats\n",
    "import statsmodels.stats.proportion as sms\n",
    "from scipy.stats import norm"
   ]
  },
  {
   "cell_type": "code",
   "execution_count": 20,
   "id": "b7cb2186",
   "metadata": {},
   "outputs": [],
   "source": [
    "significance = 0.05"
   ]
  },
  {
   "cell_type": "code",
   "execution_count": 21,
   "id": "7a88d824",
   "metadata": {},
   "outputs": [
    {
     "name": "stdout",
     "output_type": "stream",
     "text": [
      "Required sample sizes:\n",
      "  n1 = 17023\n",
      "  n2 = 17023\n"
     ]
    }
   ],
   "source": [
    "'''\n",
    "sms.samplesize_proportions_2indep_onetail(diff, prop2, power, ratio=1, alpha=0.05, alternative='two-sided')\n",
    "p1 = p2 + diff\n",
    "nobs2 = ratio * nobs1\n",
    "Significance level, e.g. 0.05, is the probability of a type I error, that is wrong \n",
    "rejections if the Null Hypothesis is true\n",
    "Power of the test, e.g. 0.8, is one minus the probability of a type II error. \n",
    "Power is the probability that the test correctly rejects the null hypothesis if the alternative hypothesis is true.\n",
    "'''\n",
    "sample_size_n1 = sms.samplesize_proportions_2indep_onetail(\n",
    "    diff=-0.005, \n",
    "    prop2=0.028, \n",
    "    power=0.9, \n",
    "    ratio=1, \n",
    "    alpha=0.05, \n",
    "    alternative='greater'\n",
    ")\n",
    "sample_size_n2 = 1 * sample_size_n1\n",
    "\n",
    "print(f'Required sample sizes:\\n  n1 = {int(np.ceil(sample_size_n1))}\\n  n2 = {int(np.ceil(sample_size_n2))}')"
   ]
  },
  {
   "cell_type": "markdown",
   "id": "5838daf5",
   "metadata": {},
   "source": [
    "# EXPERIMENT"
   ]
  },
  {
   "cell_type": "markdown",
   "id": "ab7cfe9b",
   "metadata": {},
   "source": [
    "## ETL"
   ]
  },
  {
   "cell_type": "code",
   "execution_count": 22,
   "id": "6f9e5a2a",
   "metadata": {},
   "outputs": [],
   "source": [
    "def hist_and_boxplot(data, col, iqr=3, figsize=(16, 8)):\n",
    "    '''\n",
    "    plot histplot with boxplot for data overall view\n",
    "    :param data: pandas DataFrame\n",
    "    :param col: name of column with data to evaluate\n",
    "    :param iqr: koefficient in IQR approach to detect fliers (UBound = Q75 + iqr * (Q75-Q25))\n",
    "    :param figsize: touple\n",
    "    :return: fliers\n",
    "    '''\n",
    "    fig, ax = plt.subplots(figsize=figsize , nrows=2,ncols=1, sharex=True, gridspec_kw={'height_ratios': [10, 1.5]})\n",
    "    fig.suptitle(col, fontsize=16)\n",
    "    # fig.set_size_inches(12, 8)\n",
    "    data[col].hist(bins=80, ax=ax[0])\n",
    "    \n",
    "    stat = data[col].describe()\n",
    "\n",
    "    b = data.boxplot(column=col, widths=0.5, vert=False, showcaps=True, whis=iqr, ax=ax[1], \n",
    "                     flierprops={'marker': '|', 'markersize': 15, 'markeredgecolor': 'g', 'markeredgewidth':2, 'zorder':1},\n",
    "                     capprops={'color':'r', \"linewidth\": 2, 'zorder':3}, return_type='dict')\n",
    "    ax[1].set_yticklabels([''])\n",
    "    ax[1].grid(visible=False, axis='both')\n",
    "    fliers = b['fliers'][0].get_xdata()\n",
    "    fig.tight_layout(rect=[0, 0, 1, 0.96])\n",
    "    fig.text(\n",
    "        0.047,\n",
    "        0.915,\n",
    "        f\"count: {stat['count']:,.0f} \\\n",
    "    fliers: {fliers.shape[0]} ({sum(fliers<stat['50%'])}, {sum(fliers>stat['50%'])}) \\\n",
    "    median: {b['medians'][0].get_xdata()[0]} \\\n",
    "    mean: {stat['mean']:.1f} \\\n",
    "    caps: [{b['caps'][0].get_xdata()[0]}, {b['caps'][1].get_xdata()[0]}] \\\n",
    "    box: [{b['boxes'][0].get_xdata()[0]}, {b['boxes'][0].get_xdata()[2]}] \\\n",
    "    min max: [{stat['min']:.1f}, {stat['max']:.1f}]\",\n",
    "        ha=\"left\",\n",
    "#             color='w',\n",
    "        fontname=\"DejaVu Sans\",\n",
    "        fontsize=12,\n",
    "        )\n",
    "    plt.show()\n",
    "    return fliers"
   ]
  },
  {
   "cell_type": "code",
   "execution_count": 23,
   "id": "e0724ead",
   "metadata": {},
   "outputs": [],
   "source": [
    "def sub_hist_and_boxplot(df, col, subfig, iqr=3, seaborn_hist=True):\n",
    "    '''\n",
    "    accessory plot  for plotting axes on subfigure\n",
    "    :param df: DataFrame\n",
    "    :param col: column name for plotting\n",
    "    :param subfig: object Figure\n",
    "    '''\n",
    "    subfig.suptitle(col, fontsize=12)\n",
    "    \n",
    "    \n",
    "    if df[col].dtype in [np.dtype('float64'), np.dtype('int64')]:\n",
    "        ax = subfig.subplots(nrows=2,ncols=1, sharex=True, gridspec_kw={'height_ratios': [10, 1.5]})\n",
    "        if not seaborn_hist:\n",
    "            df.hist(column=col, bins=80, ax=ax[0])\n",
    "        else:\n",
    "            sns.histplot(data=df, x=col, ax=ax[0])\n",
    "        b = df.boxplot(column=col, widths=0.5, vert=False, showcaps=True, whis=iqr, ax=ax[1],  \n",
    "                       flierprops={'marker': '|', 'markersize': 15, 'markeredgecolor': 'g', 'markeredgewidth':2, 'zorder':1},\n",
    "                       capprops={'color':'r', \"linewidth\": 2, 'zorder':3}, return_type='dict')\n",
    "        ax[1].set_yticklabels([])\n",
    "        ax[1].grid(visible=False, axis='both')\n",
    "        ax[0].grid(visible=True, axis='y')\n",
    "        \n",
    "    if df[col].dtype == np.dtype('<M8[ns]'):\n",
    "        ax = subfig.subplots(nrows=1,ncols=1)\n",
    "        if not seaborn_hist:\n",
    "            df.hist(column=col, bins=80)\n",
    "        else:\n",
    "            sns.histplot(data=df, x=col)\n",
    "        ax.grid(visible=True, axis='y')\n",
    "        ax.tick_params(axis='x', labelrotation=30)\n",
    "        \n",
    "    elif df[col].dtype == np.dtype('O'):\n",
    "        ax = subfig.subplots(nrows=1,ncols=1)\n",
    "        s = df[col].value_counts()\n",
    "        if s[15:].sum() >0:\n",
    "            t = pd.concat([s[:15], pd.Series(index=['_other_'], data=[s[15:].sum()])]).reset_index()\n",
    "        else:\n",
    "            t = s.copy().reset_index()\n",
    "        t.columns = ['cat_name', 'count']\n",
    "        ax.pie(t['count'], labels=t['cat_name'], autopct='%1.1f%%');\n",
    "\n",
    "    \n",
    "    \n",
    "    \n",
    "    \n",
    "    return subfig, ax"
   ]
  },
  {
   "cell_type": "code",
   "execution_count": 24,
   "id": "b459fa2a",
   "metadata": {},
   "outputs": [],
   "source": [
    "def corr_triag_heatmap(corr, title_str):\n",
    "    '''\n",
    "    Function to draw triangle heatmap matrix (without diagonal elements)\n",
    "    :param corr: correlation table\n",
    "    :param title_str: plot title string\n",
    "    '''\n",
    "\n",
    "    \n",
    "    # mask = np.zeros_like(corr)\n",
    "    # mask[np.triu_indices_from(mask)] = True\n",
    "    mask = np.triu(np.full(corr.shape, True))\n",
    "    corr = corr.iloc[1:, :-1]\n",
    "    mask = pd.DataFrame(mask).iloc[1:, :-1].to_numpy()\n",
    "\n",
    "    # делаем heatmap\n",
    "    plt.figure(figsize=(corr.shape[0] * 1.2, (corr.shape[0] * 0.6)))\n",
    "    ax = sns.heatmap(corr, annot=True, cmap=\"RdBu\", mask=mask, vmin=-1, vmax=1)\n",
    "    ax.set_title(title_str, fontdict={'fontsize':14})\n",
    "    plt.show()\n",
    "\n",
    "def evaluate_df(df, title=\"\", show_corr_zero_plots = False, show_corr_null_plots=False, show_scatter_matrix=False, show_histograms=False, show_histograms_box=True):\n",
    "    '''\n",
    "    Function for dataframe evaluation\n",
    "      1) show sample\n",
    "      2) show data types in columns\n",
    "      3) show count NaN and zeros\n",
    "      4) correlation zeros at the same objects in different columns\n",
    "      5) correlation NaNs at the same objects in different columns\n",
    "      6) scatter_matrix\n",
    "    :param df: pandas DataFrame\n",
    "    :param show_corr_zero_plots: \n",
    "    :param show_corr_null_plots: \n",
    "    :param show_scatter_matrix: \n",
    "    '''\n",
    "    print(''.ljust(96, '-'))\n",
    "    s='---   ' + title + '   '\n",
    "    print(s.ljust(96, '-'))\n",
    "    print(''.ljust(96, '-'))\n",
    "    \n",
    "    print('\\nComplete duplicates:', df.duplicated().sum())\n",
    "    print('Empty cells:', df.isna().sum().sum())\n",
    "    \n",
    "    \n",
    "    print('\\n------SAMPLE--------')\n",
    "    display(df.sample(min(5,len(df))))\n",
    "    print('\\n------DTYPES--------')\n",
    "    print(df.dtypes)\n",
    "\n",
    "    # count NaN\n",
    "    print('\\n\\n------NaN & zero--------')\n",
    "    na = pd.DataFrame(index=df.columns\n",
    "                      , data={\n",
    "                          'NA':df.isna().sum().values\n",
    "                          , 'filled': df.notna().sum().values\n",
    "                          , 'zero':df.eq(0).sum()\n",
    "                      }\n",
    "                     )\n",
    "    na['%na'] = na['NA']/len(df)*100\n",
    "    print(na.replace(0,'-'))\n",
    "    \n",
    "    \n",
    "    \n",
    "    if show_corr_zero_plots:\n",
    "        # correlation matrix of zeros\n",
    "        t = df.eq(0).sum().sort_values()\n",
    "        indx = t[t > 0].index\n",
    "        if len(indx) > 1:\n",
    "            print()\n",
    "            corr = df[indx].isin([0,'0']).corr()\n",
    "            corr_triag_heatmap(corr, \"Correlation of ZEROs in columns\")\n",
    "            \n",
    "            # Add map of zeros\n",
    "            t = df[indx].eq(0).sort_values(by=list(indx))\n",
    "            plt.figure(figsize = (20,len(indx)*0.6))\n",
    "            \n",
    "            ax = sns.heatmap(t.transpose(), alpha=0.4,cbar_kws = {\"ticks\":[False, True], \"drawedges\":True}, cmap=sns.color_palette(['#00AA00', '#FF4444']))\n",
    "            ax.set_title(\"Map of ZEROs values\", fontdict={'fontsize':14})\n",
    "            ax.hlines(ax.yaxis.get_ticklocs() + 0.5, 0, t.shape[0], color='w', linewidths=1)\n",
    "            plt.show()\n",
    "    if show_corr_null_plots:\n",
    "        # correlation matrix of NaN\n",
    "        t = df.isna().sum().sort_values()\n",
    "        indx = t[t > 0].index\n",
    "        if len(indx) > 1:\n",
    "            print()\n",
    "            corr = df[indx].isna().corr()\n",
    "            corr_triag_heatmap(corr, \"Correlation of NULL in columns\")\n",
    "            \n",
    "            # Add map of NaN\n",
    "            t = df[indx].isna().sort_values(by=list(indx))\n",
    "            plt.figure(figsize = (20,len(indx)*0.6))\n",
    "            \n",
    "            ax = sns.heatmap(t.transpose(), alpha=0.4,cbar_kws = {\"ticks\":[False, True], \"drawedges\":True}, cmap=sns.color_palette(['#00AA00', '#FF4444']))\n",
    "            ax.set_title(\"Map of NULL values\", fontdict={'fontsize':14})\n",
    "            ax.hlines(ax.yaxis.get_ticklocs() + 0.5, 0, t.shape[0], color='w', linewidths=1)\n",
    "            plt.show()\n",
    "\n",
    "#     display(df.describe(include='all').transpose())\n",
    "    print('\\n\\n------ describe --------')\n",
    "    if np.dtype('int64') in df.dtypes.values or np.dtype('float64') in df.dtypes.values:\n",
    "        print('\\n\\tNumeric')\n",
    "        display(df.describe(include=[np.number]).transpose())\n",
    "    if np.dtype('<M8[ns]') in df.dtypes.values:\n",
    "        print('\\n\\tDateTime')\n",
    "        display(df.describe(include=['datetime'], datetime_is_numeric=True).transpose())\n",
    "    \n",
    "#     print('\\n\\tCategory')\n",
    "#     display(df.describe(include=['category']).transpose())\n",
    "    \n",
    "    if np.dtype('O') in df.dtypes.values:\n",
    "        print(\"\\n\\tText (object)\")\n",
    "        df_o = df.describe(include=[object]).transpose()\n",
    "        display(df_o)\n",
    "        for col in df_o.index:\n",
    "            uniq_cnt = df_o.loc[col, \"unique\"]\n",
    "            print(\"\\n  Unique:\", uniq_cnt)\n",
    "            if 15<uniq_cnt < 300:\n",
    "                print(f'\\n{col} unique: {uniq_cnt}\\n', df[col].sort_values().unique())\n",
    "            s = df['group'].value_counts()\n",
    "            display(pd.concat([s[:15], pd.Series(index=['_other_'], data=[s[15:].sum()])]))\n",
    "            \n",
    "    \n",
    "    if show_scatter_matrix:\n",
    "        pd.plotting.scatter_matrix(df, figsize=(16,10), alpha=0.1, s=5);\n",
    "    \n",
    "    if show_histograms:\n",
    "        cols_no = 4\n",
    "        rows_no = (len(df.columns) - 1)//cols_no +1 # number rows\n",
    "\n",
    "        # plot hostograms for numeric features and pie charts for categorial\n",
    "        fig, ax = plt.subplots(nrows=rows_no, ncols=cols_no, layout=\"constrained\", squeeze = False)\n",
    "        fig.set_figheight(3 * rows_no)\n",
    "        fig.set_figwidth(4 * cols_no)\n",
    "\n",
    "        for i in range(len(df.columns)):\n",
    "            r = i // cols_no\n",
    "            c = i - r * cols_no\n",
    "            col = df.columns[r*cols_no + c]\n",
    "            if df[col].dtype in [np.dtype('float64'), np.dtype('int64'), np.dtype('<M8[ns]')]:\n",
    "                ax[r,c].hist(df[col])\n",
    "                ax[r,c].set_title(col)\n",
    "                if df[col].dtype == np.dtype('<M8[ns]'):\n",
    "                    ax[r,c].tick_params(axis='x', labelrotation=30)\n",
    "            elif df[col].dtype == np.dtype('O'):\n",
    "                t = df[col].value_counts().reset_index()\n",
    "                t.columns = ['cat_name', 'count']\n",
    "                ax[r,c].pie(t['count'], labels=t['cat_name'], autopct='%1.1f%%');\n",
    "                ax[r,c].set_title(col)\n",
    "\n",
    "        if c != cols_no:\n",
    "            for c_ in range(c+1, cols_no, 1):\n",
    "                ax[r,c_].axis('off')\n",
    "        plt.show()\n",
    "    if show_histograms_box:\n",
    "        list_col = df.columns\n",
    "        cols_no = 2\n",
    "        rows_no = (len(list_col) - 1)//cols_no +1 # number rows\n",
    "\n",
    "        fig = plt.figure(constrained_layout=True, figsize=(4*cols_no,rows_no*3))\n",
    "        fig.suptitle('Гистограммы переменных', fontsize=16)\n",
    "        subfigs = fig.subfigures(rows_no, cols_no)\n",
    "\n",
    "\n",
    "        for outerind, subfig in enumerate(subfigs.flat):\n",
    "            if outerind < len(list_col):\n",
    "                col = list_col[outerind]\n",
    "                sub_hist_and_boxplot(df, col, subfig)\n",
    "\n",
    "        plt.show()"
   ]
  },
  {
   "cell_type": "code",
   "execution_count": null,
   "id": "bed4a93c",
   "metadata": {},
   "outputs": [],
   "source": []
  },
  {
   "cell_type": "markdown",
   "id": "460549d2",
   "metadata": {},
   "source": [
    "### Load data"
   ]
  },
  {
   "cell_type": "code",
   "execution_count": 25,
   "id": "c094f15d",
   "metadata": {
    "scrolled": false
   },
   "outputs": [],
   "source": [
    "df_orders = pd.read_csv('datasets/orders.csv', parse_dates=[2])\n",
    "df_visitors = pd.read_csv('datasets/visitors.csv', parse_dates=[0])"
   ]
  },
  {
   "cell_type": "code",
   "execution_count": 26,
   "id": "efcab77c",
   "metadata": {
    "scrolled": false
   },
   "outputs": [
    {
     "name": "stdout",
     "output_type": "stream",
     "text": [
      "------------------------------------------------------------------------------------------------\n",
      "---   Orders   ---------------------------------------------------------------------------------\n",
      "------------------------------------------------------------------------------------------------\n",
      "\n",
      "Complete duplicates: 0\n",
      "Empty cells: 0\n",
      "\n",
      "------SAMPLE--------\n"
     ]
    },
    {
     "data": {
      "text/html": [
       "<div>\n",
       "<style scoped>\n",
       "    .dataframe tbody tr th:only-of-type {\n",
       "        vertical-align: middle;\n",
       "    }\n",
       "\n",
       "    .dataframe tbody tr th {\n",
       "        vertical-align: top;\n",
       "    }\n",
       "\n",
       "    .dataframe thead th {\n",
       "        text-align: right;\n",
       "    }\n",
       "</style>\n",
       "<table border=\"1\" class=\"dataframe\">\n",
       "  <thead>\n",
       "    <tr style=\"text-align: right;\">\n",
       "      <th></th>\n",
       "      <th>transactionId</th>\n",
       "      <th>visitorId</th>\n",
       "      <th>date</th>\n",
       "      <th>revenue</th>\n",
       "      <th>group</th>\n",
       "    </tr>\n",
       "  </thead>\n",
       "  <tbody>\n",
       "    <tr>\n",
       "      <th>1041</th>\n",
       "      <td>3497987294</td>\n",
       "      <td>1212176445</td>\n",
       "      <td>2019-08-11</td>\n",
       "      <td>1780</td>\n",
       "      <td>A</td>\n",
       "    </tr>\n",
       "    <tr>\n",
       "      <th>17</th>\n",
       "      <td>1108180333</td>\n",
       "      <td>222718357</td>\n",
       "      <td>2019-08-15</td>\n",
       "      <td>990</td>\n",
       "      <td>B</td>\n",
       "    </tr>\n",
       "    <tr>\n",
       "      <th>886</th>\n",
       "      <td>51443164</td>\n",
       "      <td>4278982564</td>\n",
       "      <td>2019-08-05</td>\n",
       "      <td>24744</td>\n",
       "      <td>A</td>\n",
       "    </tr>\n",
       "    <tr>\n",
       "      <th>1082</th>\n",
       "      <td>2055901696</td>\n",
       "      <td>2944179391</td>\n",
       "      <td>2019-08-12</td>\n",
       "      <td>6015</td>\n",
       "      <td>B</td>\n",
       "    </tr>\n",
       "    <tr>\n",
       "      <th>653</th>\n",
       "      <td>2107411712</td>\n",
       "      <td>2819363575</td>\n",
       "      <td>2019-08-07</td>\n",
       "      <td>1530</td>\n",
       "      <td>B</td>\n",
       "    </tr>\n",
       "  </tbody>\n",
       "</table>\n",
       "</div>"
      ],
      "text/plain": [
       "      transactionId   visitorId       date  revenue group\n",
       "1041     3497987294  1212176445 2019-08-11     1780     A\n",
       "17       1108180333   222718357 2019-08-15      990     B\n",
       "886        51443164  4278982564 2019-08-05    24744     A\n",
       "1082     2055901696  2944179391 2019-08-12     6015     B\n",
       "653      2107411712  2819363575 2019-08-07     1530     B"
      ]
     },
     "metadata": {},
     "output_type": "display_data"
    },
    {
     "name": "stdout",
     "output_type": "stream",
     "text": [
      "\n",
      "------DTYPES--------\n",
      "transactionId             int64\n",
      "visitorId                 int64\n",
      "date             datetime64[ns]\n",
      "revenue                   int64\n",
      "group                    object\n",
      "dtype: object\n",
      "\n",
      "\n",
      "------NaN & zero--------\n",
      "              NA  filled zero %na\n",
      "transactionId  -    1197    -   -\n",
      "visitorId      -    1197    -   -\n",
      "date           -    1197    -   -\n",
      "revenue        -    1197    -   -\n",
      "group          -    1197    -   -\n",
      "\n",
      "\n",
      "------ describe --------\n",
      "\n",
      "\tNumeric\n"
     ]
    },
    {
     "data": {
      "text/html": [
       "<div>\n",
       "<style scoped>\n",
       "    .dataframe tbody tr th:only-of-type {\n",
       "        vertical-align: middle;\n",
       "    }\n",
       "\n",
       "    .dataframe tbody tr th {\n",
       "        vertical-align: top;\n",
       "    }\n",
       "\n",
       "    .dataframe thead th {\n",
       "        text-align: right;\n",
       "    }\n",
       "</style>\n",
       "<table border=\"1\" class=\"dataframe\">\n",
       "  <thead>\n",
       "    <tr style=\"text-align: right;\">\n",
       "      <th></th>\n",
       "      <th>count</th>\n",
       "      <th>mean</th>\n",
       "      <th>std</th>\n",
       "      <th>min</th>\n",
       "      <th>25%</th>\n",
       "      <th>50%</th>\n",
       "      <th>75%</th>\n",
       "      <th>max</th>\n",
       "    </tr>\n",
       "  </thead>\n",
       "  <tbody>\n",
       "    <tr>\n",
       "      <th>transactionId</th>\n",
       "      <td>1197.0</td>\n",
       "      <td>2.155621e+09</td>\n",
       "      <td>1.229085e+09</td>\n",
       "      <td>1062393.0</td>\n",
       "      <td>1.166776e+09</td>\n",
       "      <td>2.145194e+09</td>\n",
       "      <td>3.237740e+09</td>\n",
       "      <td>4.293856e+09</td>\n",
       "    </tr>\n",
       "    <tr>\n",
       "      <th>visitorId</th>\n",
       "      <td>1197.0</td>\n",
       "      <td>2.165960e+09</td>\n",
       "      <td>1.236014e+09</td>\n",
       "      <td>5114589.0</td>\n",
       "      <td>1.111826e+09</td>\n",
       "      <td>2.217985e+09</td>\n",
       "      <td>3.177606e+09</td>\n",
       "      <td>4.283872e+09</td>\n",
       "    </tr>\n",
       "    <tr>\n",
       "      <th>revenue</th>\n",
       "      <td>1197.0</td>\n",
       "      <td>8.348006e+03</td>\n",
       "      <td>3.919113e+04</td>\n",
       "      <td>50.0</td>\n",
       "      <td>1.220000e+03</td>\n",
       "      <td>2.978000e+03</td>\n",
       "      <td>8.290000e+03</td>\n",
       "      <td>1.294500e+06</td>\n",
       "    </tr>\n",
       "  </tbody>\n",
       "</table>\n",
       "</div>"
      ],
      "text/plain": [
       "                count          mean           std        min           25%  \\\n",
       "transactionId  1197.0  2.155621e+09  1.229085e+09  1062393.0  1.166776e+09   \n",
       "visitorId      1197.0  2.165960e+09  1.236014e+09  5114589.0  1.111826e+09   \n",
       "revenue        1197.0  8.348006e+03  3.919113e+04       50.0  1.220000e+03   \n",
       "\n",
       "                        50%           75%           max  \n",
       "transactionId  2.145194e+09  3.237740e+09  4.293856e+09  \n",
       "visitorId      2.217985e+09  3.177606e+09  4.283872e+09  \n",
       "revenue        2.978000e+03  8.290000e+03  1.294500e+06  "
      ]
     },
     "metadata": {},
     "output_type": "display_data"
    },
    {
     "name": "stdout",
     "output_type": "stream",
     "text": [
      "\n",
      "\tDateTime\n"
     ]
    },
    {
     "data": {
      "text/html": [
       "<div>\n",
       "<style scoped>\n",
       "    .dataframe tbody tr th:only-of-type {\n",
       "        vertical-align: middle;\n",
       "    }\n",
       "\n",
       "    .dataframe tbody tr th {\n",
       "        vertical-align: top;\n",
       "    }\n",
       "\n",
       "    .dataframe thead th {\n",
       "        text-align: right;\n",
       "    }\n",
       "</style>\n",
       "<table border=\"1\" class=\"dataframe\">\n",
       "  <thead>\n",
       "    <tr style=\"text-align: right;\">\n",
       "      <th></th>\n",
       "      <th>count</th>\n",
       "      <th>mean</th>\n",
       "      <th>min</th>\n",
       "      <th>25%</th>\n",
       "      <th>50%</th>\n",
       "      <th>75%</th>\n",
       "      <th>max</th>\n",
       "    </tr>\n",
       "  </thead>\n",
       "  <tbody>\n",
       "    <tr>\n",
       "      <th>date</th>\n",
       "      <td>1197</td>\n",
       "      <td>2019-08-15 13:06:46.015037696</td>\n",
       "      <td>2019-08-01</td>\n",
       "      <td>2019-08-08</td>\n",
       "      <td>2019-08-15</td>\n",
       "      <td>2019-08-23</td>\n",
       "      <td>2019-08-31</td>\n",
       "    </tr>\n",
       "  </tbody>\n",
       "</table>\n",
       "</div>"
      ],
      "text/plain": [
       "     count                          mean        min        25%        50%  \\\n",
       "date  1197 2019-08-15 13:06:46.015037696 2019-08-01 2019-08-08 2019-08-15   \n",
       "\n",
       "            75%        max  \n",
       "date 2019-08-23 2019-08-31  "
      ]
     },
     "metadata": {},
     "output_type": "display_data"
    },
    {
     "name": "stdout",
     "output_type": "stream",
     "text": [
      "\n",
      "\tText (object)\n"
     ]
    },
    {
     "data": {
      "text/html": [
       "<div>\n",
       "<style scoped>\n",
       "    .dataframe tbody tr th:only-of-type {\n",
       "        vertical-align: middle;\n",
       "    }\n",
       "\n",
       "    .dataframe tbody tr th {\n",
       "        vertical-align: top;\n",
       "    }\n",
       "\n",
       "    .dataframe thead th {\n",
       "        text-align: right;\n",
       "    }\n",
       "</style>\n",
       "<table border=\"1\" class=\"dataframe\">\n",
       "  <thead>\n",
       "    <tr style=\"text-align: right;\">\n",
       "      <th></th>\n",
       "      <th>count</th>\n",
       "      <th>unique</th>\n",
       "      <th>top</th>\n",
       "      <th>freq</th>\n",
       "    </tr>\n",
       "  </thead>\n",
       "  <tbody>\n",
       "    <tr>\n",
       "      <th>group</th>\n",
       "      <td>1197</td>\n",
       "      <td>2</td>\n",
       "      <td>B</td>\n",
       "      <td>640</td>\n",
       "    </tr>\n",
       "  </tbody>\n",
       "</table>\n",
       "</div>"
      ],
      "text/plain": [
       "      count unique top freq\n",
       "group  1197      2   B  640"
      ]
     },
     "metadata": {},
     "output_type": "display_data"
    },
    {
     "name": "stdout",
     "output_type": "stream",
     "text": [
      "\n",
      "  Unique: 2\n"
     ]
    },
    {
     "data": {
      "text/plain": [
       "B          640\n",
       "A          557\n",
       "_other_      0\n",
       "dtype: int64"
      ]
     },
     "metadata": {},
     "output_type": "display_data"
    },
    {
     "data": {
      "image/png": "[encoded data removed]",
      "text/plain": [
       "<Figure size 576x648 with 8 Axes>"
      ]
     },
     "metadata": {
      "needs_background": "light"
     },
     "output_type": "display_data"
    }
   ],
   "source": [
    "evaluate_df(df_orders, title=\"Orders\")"
   ]
  },
  {
   "cell_type": "code",
   "execution_count": null,
   "id": "559893b7",
   "metadata": {},
   "outputs": [],
   "source": []
  },
  {
   "cell_type": "code",
   "execution_count": 27,
   "id": "6cb40aaa",
   "metadata": {
    "scrolled": false
   },
   "outputs": [
    {
     "data": {
      "image/png": "[encoded data removed]",
      "text/plain": [
       "<Figure size 864x648 with 2 Axes>"
      ]
     },
     "metadata": {
      "needs_background": "light"
     },
     "output_type": "display_data"
    }
   ],
   "source": [
    "hist_and_boxplot(df_orders, 'revenue', figsize=(12,9), iqr=3);\n"
   ]
  },
  {
   "cell_type": "code",
   "execution_count": 28,
   "id": "9193dcd9",
   "metadata": {
    "scrolled": false
   },
   "outputs": [
    {
     "name": "stdout",
     "output_type": "stream",
     "text": [
      "------------------------------------------------------------------------------------------------\n",
      "---   Visitors   -------------------------------------------------------------------------------\n",
      "------------------------------------------------------------------------------------------------\n",
      "\n",
      "Complete duplicates: 0\n",
      "Empty cells: 0\n",
      "\n",
      "------SAMPLE--------\n"
     ]
    },
    {
     "data": {
      "text/html": [
       "<div>\n",
       "<style scoped>\n",
       "    .dataframe tbody tr th:only-of-type {\n",
       "        vertical-align: middle;\n",
       "    }\n",
       "\n",
       "    .dataframe tbody tr th {\n",
       "        vertical-align: top;\n",
       "    }\n",
       "\n",
       "    .dataframe thead th {\n",
       "        text-align: right;\n",
       "    }\n",
       "</style>\n",
       "<table border=\"1\" class=\"dataframe\">\n",
       "  <thead>\n",
       "    <tr style=\"text-align: right;\">\n",
       "      <th></th>\n",
       "      <th>date</th>\n",
       "      <th>group</th>\n",
       "      <th>visitors</th>\n",
       "    </tr>\n",
       "  </thead>\n",
       "  <tbody>\n",
       "    <tr>\n",
       "      <th>0</th>\n",
       "      <td>2019-08-01</td>\n",
       "      <td>A</td>\n",
       "      <td>719</td>\n",
       "    </tr>\n",
       "    <tr>\n",
       "      <th>45</th>\n",
       "      <td>2019-08-15</td>\n",
       "      <td>B</td>\n",
       "      <td>544</td>\n",
       "    </tr>\n",
       "    <tr>\n",
       "      <th>48</th>\n",
       "      <td>2019-08-18</td>\n",
       "      <td>B</td>\n",
       "      <td>737</td>\n",
       "    </tr>\n",
       "    <tr>\n",
       "      <th>12</th>\n",
       "      <td>2019-08-13</td>\n",
       "      <td>A</td>\n",
       "      <td>748</td>\n",
       "    </tr>\n",
       "    <tr>\n",
       "      <th>19</th>\n",
       "      <td>2019-08-20</td>\n",
       "      <td>A</td>\n",
       "      <td>575</td>\n",
       "    </tr>\n",
       "  </tbody>\n",
       "</table>\n",
       "</div>"
      ],
      "text/plain": [
       "         date group  visitors\n",
       "0  2019-08-01     A       719\n",
       "45 2019-08-15     B       544\n",
       "48 2019-08-18     B       737\n",
       "12 2019-08-13     A       748\n",
       "19 2019-08-20     A       575"
      ]
     },
     "metadata": {},
     "output_type": "display_data"
    },
    {
     "name": "stdout",
     "output_type": "stream",
     "text": [
      "\n",
      "------DTYPES--------\n",
      "date        datetime64[ns]\n",
      "group               object\n",
      "visitors             int64\n",
      "dtype: object\n",
      "\n",
      "\n",
      "------NaN & zero--------\n",
      "         NA  filled zero %na\n",
      "date      -      62    -   -\n",
      "group     -      62    -   -\n",
      "visitors  -      62    -   -\n",
      "\n",
      "\n",
      "------ describe --------\n",
      "\n",
      "\tNumeric\n"
     ]
    },
    {
     "data": {
      "text/html": [
       "<div>\n",
       "<style scoped>\n",
       "    .dataframe tbody tr th:only-of-type {\n",
       "        vertical-align: middle;\n",
       "    }\n",
       "\n",
       "    .dataframe tbody tr th {\n",
       "        vertical-align: top;\n",
       "    }\n",
       "\n",
       "    .dataframe thead th {\n",
       "        text-align: right;\n",
       "    }\n",
       "</style>\n",
       "<table border=\"1\" class=\"dataframe\">\n",
       "  <thead>\n",
       "    <tr style=\"text-align: right;\">\n",
       "      <th></th>\n",
       "      <th>count</th>\n",
       "      <th>mean</th>\n",
       "      <th>std</th>\n",
       "      <th>min</th>\n",
       "      <th>25%</th>\n",
       "      <th>50%</th>\n",
       "      <th>75%</th>\n",
       "      <th>max</th>\n",
       "    </tr>\n",
       "  </thead>\n",
       "  <tbody>\n",
       "    <tr>\n",
       "      <th>visitors</th>\n",
       "      <td>62.0</td>\n",
       "      <td>607.290323</td>\n",
       "      <td>114.40056</td>\n",
       "      <td>361.0</td>\n",
       "      <td>534.0</td>\n",
       "      <td>624.5</td>\n",
       "      <td>710.5</td>\n",
       "      <td>770.0</td>\n",
       "    </tr>\n",
       "  </tbody>\n",
       "</table>\n",
       "</div>"
      ],
      "text/plain": [
       "          count        mean        std    min    25%    50%    75%    max\n",
       "visitors   62.0  607.290323  114.40056  361.0  534.0  624.5  710.5  770.0"
      ]
     },
     "metadata": {},
     "output_type": "display_data"
    },
    {
     "name": "stdout",
     "output_type": "stream",
     "text": [
      "\n",
      "\tDateTime\n"
     ]
    },
    {
     "data": {
      "text/html": [
       "<div>\n",
       "<style scoped>\n",
       "    .dataframe tbody tr th:only-of-type {\n",
       "        vertical-align: middle;\n",
       "    }\n",
       "\n",
       "    .dataframe tbody tr th {\n",
       "        vertical-align: top;\n",
       "    }\n",
       "\n",
       "    .dataframe thead th {\n",
       "        text-align: right;\n",
       "    }\n",
       "</style>\n",
       "<table border=\"1\" class=\"dataframe\">\n",
       "  <thead>\n",
       "    <tr style=\"text-align: right;\">\n",
       "      <th></th>\n",
       "      <th>count</th>\n",
       "      <th>mean</th>\n",
       "      <th>min</th>\n",
       "      <th>25%</th>\n",
       "      <th>50%</th>\n",
       "      <th>75%</th>\n",
       "      <th>max</th>\n",
       "    </tr>\n",
       "  </thead>\n",
       "  <tbody>\n",
       "    <tr>\n",
       "      <th>date</th>\n",
       "      <td>62</td>\n",
       "      <td>2019-08-16</td>\n",
       "      <td>2019-08-01</td>\n",
       "      <td>2019-08-08 06:00:00</td>\n",
       "      <td>2019-08-16</td>\n",
       "      <td>2019-08-23 18:00:00</td>\n",
       "      <td>2019-08-31</td>\n",
       "    </tr>\n",
       "  </tbody>\n",
       "</table>\n",
       "</div>"
      ],
      "text/plain": [
       "     count       mean        min                 25%        50%  \\\n",
       "date    62 2019-08-16 2019-08-01 2019-08-08 06:00:00 2019-08-16   \n",
       "\n",
       "                     75%        max  \n",
       "date 2019-08-23 18:00:00 2019-08-31  "
      ]
     },
     "metadata": {},
     "output_type": "display_data"
    },
    {
     "name": "stdout",
     "output_type": "stream",
     "text": [
      "\n",
      "\tText (object)\n"
     ]
    },
    {
     "data": {
      "text/html": [
       "<div>\n",
       "<style scoped>\n",
       "    .dataframe tbody tr th:only-of-type {\n",
       "        vertical-align: middle;\n",
       "    }\n",
       "\n",
       "    .dataframe tbody tr th {\n",
       "        vertical-align: top;\n",
       "    }\n",
       "\n",
       "    .dataframe thead th {\n",
       "        text-align: right;\n",
       "    }\n",
       "</style>\n",
       "<table border=\"1\" class=\"dataframe\">\n",
       "  <thead>\n",
       "    <tr style=\"text-align: right;\">\n",
       "      <th></th>\n",
       "      <th>count</th>\n",
       "      <th>unique</th>\n",
       "      <th>top</th>\n",
       "      <th>freq</th>\n",
       "    </tr>\n",
       "  </thead>\n",
       "  <tbody>\n",
       "    <tr>\n",
       "      <th>group</th>\n",
       "      <td>62</td>\n",
       "      <td>2</td>\n",
       "      <td>A</td>\n",
       "      <td>31</td>\n",
       "    </tr>\n",
       "  </tbody>\n",
       "</table>\n",
       "</div>"
      ],
      "text/plain": [
       "      count unique top freq\n",
       "group    62      2   A   31"
      ]
     },
     "metadata": {},
     "output_type": "display_data"
    },
    {
     "name": "stdout",
     "output_type": "stream",
     "text": [
      "\n",
      "  Unique: 2\n"
     ]
    },
    {
     "data": {
      "text/plain": [
       "A          31\n",
       "B          31\n",
       "_other_     0\n",
       "dtype: int64"
      ]
     },
     "metadata": {},
     "output_type": "display_data"
    },
    {
     "data": {
      "image/png": "[encoded data removed]",
      "text/plain": [
       "<Figure size 576x432 with 4 Axes>"
      ]
     },
     "metadata": {
      "needs_background": "light"
     },
     "output_type": "display_data"
    }
   ],
   "source": [
    "evaluate_df(df_visitors, title=\"Visitors\")"
   ]
  },
  {
   "cell_type": "markdown",
   "id": "3b3fe1c3",
   "metadata": {},
   "source": [
    "#### transactionId duplicates"
   ]
  },
  {
   "cell_type": "code",
   "execution_count": 29,
   "id": "b9fa2ddb",
   "metadata": {},
   "outputs": [
    {
     "data": {
      "text/plain": [
       "0"
      ]
     },
     "execution_count": 29,
     "metadata": {},
     "output_type": "execute_result"
    }
   ],
   "source": [
    "df_orders['transactionId'].duplicated().sum()"
   ]
  },
  {
   "cell_type": "markdown",
   "id": "815b21eb",
   "metadata": {},
   "source": [
    "#### check a rule \"One client - One group\""
   ]
  },
  {
   "cell_type": "code",
   "execution_count": 30,
   "id": "7eccd0bf",
   "metadata": {},
   "outputs": [
    {
     "data": {
      "text/plain": [
       "1    973\n",
       "2     58\n",
       "Name: group, dtype: int64"
      ]
     },
     "execution_count": 30,
     "metadata": {},
     "output_type": "execute_result"
    }
   ],
   "source": [
    "t = df_orders[['visitorId', 'group']].drop_duplicates().groupby(by=['visitorId'])['group'].count()\n",
    "t.value_counts()"
   ]
  },
  {
   "cell_type": "markdown",
   "id": "31b97116",
   "metadata": {},
   "source": [
    "**ERROR FOUND:** There was 58 clients with orders in both groups \"A\" and \"B\". The test was incorrect. We must eliminate theese clients."
   ]
  },
  {
   "cell_type": "markdown",
   "id": "505800c0",
   "metadata": {},
   "source": [
    "create lists of correct clients and incorrect"
   ]
  },
  {
   "cell_type": "code",
   "execution_count": 31,
   "id": "c4c17a82",
   "metadata": {},
   "outputs": [],
   "source": [
    "correct_clients_id = t[t==1].index\n",
    "incorrect_clients_id = t[t==2].index"
   ]
  },
  {
   "cell_type": "markdown",
   "id": "1ba0ac41",
   "metadata": {},
   "source": [
    "We have to delete incorrect clients from orders and their visits from df_visitors"
   ]
  },
  {
   "cell_type": "code",
   "execution_count": 32,
   "id": "25f5e214",
   "metadata": {},
   "outputs": [
    {
     "data": {
      "text/html": [
       "<div>\n",
       "<style scoped>\n",
       "    .dataframe tbody tr th:only-of-type {\n",
       "        vertical-align: middle;\n",
       "    }\n",
       "\n",
       "    .dataframe tbody tr th {\n",
       "        vertical-align: top;\n",
       "    }\n",
       "\n",
       "    .dataframe thead th {\n",
       "        text-align: right;\n",
       "    }\n",
       "</style>\n",
       "<table border=\"1\" class=\"dataframe\">\n",
       "  <thead>\n",
       "    <tr style=\"text-align: right;\">\n",
       "      <th></th>\n",
       "      <th>date</th>\n",
       "      <th>group</th>\n",
       "      <th>orders</th>\n",
       "    </tr>\n",
       "  </thead>\n",
       "  <tbody>\n",
       "    <tr>\n",
       "      <th>0</th>\n",
       "      <td>2019-08-01</td>\n",
       "      <td>A</td>\n",
       "      <td>24</td>\n",
       "    </tr>\n",
       "    <tr>\n",
       "      <th>1</th>\n",
       "      <td>2019-08-01</td>\n",
       "      <td>B</td>\n",
       "      <td>21</td>\n",
       "    </tr>\n",
       "    <tr>\n",
       "      <th>2</th>\n",
       "      <td>2019-08-02</td>\n",
       "      <td>A</td>\n",
       "      <td>20</td>\n",
       "    </tr>\n",
       "    <tr>\n",
       "      <th>3</th>\n",
       "      <td>2019-08-02</td>\n",
       "      <td>B</td>\n",
       "      <td>24</td>\n",
       "    </tr>\n",
       "    <tr>\n",
       "      <th>4</th>\n",
       "      <td>2019-08-03</td>\n",
       "      <td>A</td>\n",
       "      <td>24</td>\n",
       "    </tr>\n",
       "  </tbody>\n",
       "</table>\n",
       "</div>"
      ],
      "text/plain": [
       "        date group  orders\n",
       "0 2019-08-01     A      24\n",
       "1 2019-08-01     B      21\n",
       "2 2019-08-02     A      20\n",
       "3 2019-08-02     B      24\n",
       "4 2019-08-03     A      24"
      ]
     },
     "execution_count": 32,
     "metadata": {},
     "output_type": "execute_result"
    }
   ],
   "source": [
    "orders_agg = df_orders.groupby(by=['date', 'group'])['visitorId'].count().reset_index()\n",
    "orders_agg.rename(columns={'visitorId':'orders'}, inplace=True)\n",
    "orders_agg.head()"
   ]
  },
  {
   "cell_type": "code",
   "execution_count": 33,
   "id": "9f1567f9",
   "metadata": {},
   "outputs": [
    {
     "data": {
      "text/html": [
       "<div>\n",
       "<style scoped>\n",
       "    .dataframe tbody tr th:only-of-type {\n",
       "        vertical-align: middle;\n",
       "    }\n",
       "\n",
       "    .dataframe tbody tr th {\n",
       "        vertical-align: top;\n",
       "    }\n",
       "\n",
       "    .dataframe thead th {\n",
       "        text-align: right;\n",
       "    }\n",
       "</style>\n",
       "<table border=\"1\" class=\"dataframe\">\n",
       "  <thead>\n",
       "    <tr style=\"text-align: right;\">\n",
       "      <th></th>\n",
       "      <th>date</th>\n",
       "      <th>group</th>\n",
       "      <th>incorrect_count</th>\n",
       "    </tr>\n",
       "  </thead>\n",
       "  <tbody>\n",
       "    <tr>\n",
       "      <th>0</th>\n",
       "      <td>2019-08-01</td>\n",
       "      <td>A</td>\n",
       "      <td>1</td>\n",
       "    </tr>\n",
       "    <tr>\n",
       "      <th>1</th>\n",
       "      <td>2019-08-01</td>\n",
       "      <td>B</td>\n",
       "      <td>4</td>\n",
       "    </tr>\n",
       "    <tr>\n",
       "      <th>2</th>\n",
       "      <td>2019-08-02</td>\n",
       "      <td>A</td>\n",
       "      <td>1</td>\n",
       "    </tr>\n",
       "    <tr>\n",
       "      <th>3</th>\n",
       "      <td>2019-08-02</td>\n",
       "      <td>B</td>\n",
       "      <td>1</td>\n",
       "    </tr>\n",
       "    <tr>\n",
       "      <th>4</th>\n",
       "      <td>2019-08-03</td>\n",
       "      <td>B</td>\n",
       "      <td>2</td>\n",
       "    </tr>\n",
       "  </tbody>\n",
       "</table>\n",
       "</div>"
      ],
      "text/plain": [
       "        date group  incorrect_count\n",
       "0 2019-08-01     A                1\n",
       "1 2019-08-01     B                4\n",
       "2 2019-08-02     A                1\n",
       "3 2019-08-02     B                1\n",
       "4 2019-08-03     B                2"
      ]
     },
     "execution_count": 33,
     "metadata": {},
     "output_type": "execute_result"
    }
   ],
   "source": [
    "incorrect_orders_agg = df_orders.query('visitorId in @incorrect_clients_id').groupby(by=['date', 'group'])['visitorId'].count().reset_index()\n",
    "incorrect_orders_agg.rename(columns={'visitorId':'incorrect_count'}, inplace=True)\n",
    "incorrect_orders_agg.head()"
   ]
  },
  {
   "cell_type": "markdown",
   "id": "341d58a3",
   "metadata": {},
   "source": [
    "Prepare corrected orders and visits by days for each group"
   ]
  },
  {
   "cell_type": "markdown",
   "id": "9cde0ac8",
   "metadata": {},
   "source": [
    "#### if the dates in df_visitors are the same as in df_orders"
   ]
  },
  {
   "cell_type": "code",
   "execution_count": 34,
   "id": "71ce7cc3",
   "metadata": {},
   "outputs": [
    {
     "data": {
      "text/plain": [
       "True"
      ]
     },
     "execution_count": 34,
     "metadata": {},
     "output_type": "execute_result"
    }
   ],
   "source": [
    "set(df_visitors['date'].drop_duplicates()) == set(df_orders['date'].drop_duplicates())"
   ]
  },
  {
   "cell_type": "markdown",
   "id": "c97d43f0",
   "metadata": {},
   "source": [
    "### Transform"
   ]
  },
  {
   "cell_type": "code",
   "execution_count": 35,
   "id": "dcafc454",
   "metadata": {},
   "outputs": [
    {
     "data": {
      "text/html": [
       "<div>\n",
       "<style scoped>\n",
       "    .dataframe tbody tr th:only-of-type {\n",
       "        vertical-align: middle;\n",
       "    }\n",
       "\n",
       "    .dataframe tbody tr th {\n",
       "        vertical-align: top;\n",
       "    }\n",
       "\n",
       "    .dataframe thead th {\n",
       "        text-align: right;\n",
       "    }\n",
       "</style>\n",
       "<table border=\"1\" class=\"dataframe\">\n",
       "  <thead>\n",
       "    <tr style=\"text-align: right;\">\n",
       "      <th></th>\n",
       "      <th>date</th>\n",
       "      <th>group</th>\n",
       "      <th>visit_c</th>\n",
       "      <th>order_c</th>\n",
       "    </tr>\n",
       "  </thead>\n",
       "  <tbody>\n",
       "    <tr>\n",
       "      <th>0</th>\n",
       "      <td>2019-08-01</td>\n",
       "      <td>A</td>\n",
       "      <td>718.0</td>\n",
       "      <td>23.0</td>\n",
       "    </tr>\n",
       "    <tr>\n",
       "      <th>1</th>\n",
       "      <td>2019-08-02</td>\n",
       "      <td>A</td>\n",
       "      <td>618.0</td>\n",
       "      <td>19.0</td>\n",
       "    </tr>\n",
       "    <tr>\n",
       "      <th>2</th>\n",
       "      <td>2019-08-03</td>\n",
       "      <td>A</td>\n",
       "      <td>507.0</td>\n",
       "      <td>24.0</td>\n",
       "    </tr>\n",
       "    <tr>\n",
       "      <th>3</th>\n",
       "      <td>2019-08-04</td>\n",
       "      <td>A</td>\n",
       "      <td>712.0</td>\n",
       "      <td>11.0</td>\n",
       "    </tr>\n",
       "    <tr>\n",
       "      <th>4</th>\n",
       "      <td>2019-08-05</td>\n",
       "      <td>A</td>\n",
       "      <td>753.0</td>\n",
       "      <td>22.0</td>\n",
       "    </tr>\n",
       "  </tbody>\n",
       "</table>\n",
       "</div>"
      ],
      "text/plain": [
       "        date group  visit_c  order_c\n",
       "0 2019-08-01     A    718.0     23.0\n",
       "1 2019-08-02     A    618.0     19.0\n",
       "2 2019-08-03     A    507.0     24.0\n",
       "3 2019-08-04     A    712.0     11.0\n",
       "4 2019-08-05     A    753.0     22.0"
      ]
     },
     "execution_count": 35,
     "metadata": {},
     "output_type": "execute_result"
    }
   ],
   "source": [
    "df_total = df_visitors \\\n",
    "    .merge(orders_agg, on=['date', 'group'], how='left') \\\n",
    "    .merge(incorrect_orders_agg, on=['date', 'group'], how='left') \\\n",
    "    .fillna(0)\n",
    "df = df_total.copy()\n",
    "df['visit_c'] = df_total['visitors'] - df_total['incorrect_count']\n",
    "df['order_c'] = df_total['orders'] - df_total['incorrect_count']\n",
    "df.drop(labels=['visitors', 'orders', 'incorrect_count'], axis=1, inplace=True)\n",
    "df.head()"
   ]
  },
  {
   "cell_type": "markdown",
   "id": "05d47444",
   "metadata": {},
   "source": [
    "**CONCLUSIONS**\n",
    "\n",
    "- data sets are correct\n",
    " - no duplicates\n",
    " - no NaN\n",
    " - groups are balanced\n",
    " - dates in ordares and visitors are from the same range\n",
    "\n",
    "There was some outliers in revenue. But revenue doesnt interesting for us\n",
    "\n",
    "\n",
    "The test was incorrect. Some visitors were in both groups \"A\" and \"B\". We eliminate incorrect orders from odrers and visits"
   ]
  },
  {
   "cell_type": "markdown",
   "id": "86cb15d7",
   "metadata": {},
   "source": [
    "## EDA"
   ]
  },
  {
   "cell_type": "markdown",
   "id": "3d66234c",
   "metadata": {},
   "source": [
    "### correlation  date visits orders"
   ]
  },
  {
   "cell_type": "markdown",
   "id": "9363e1f7",
   "metadata": {},
   "source": [
    "Lets see the correlation table [date, visit_c, order_c]"
   ]
  },
  {
   "cell_type": "code",
   "execution_count": 36,
   "id": "a3068ff4",
   "metadata": {},
   "outputs": [
    {
     "data": {
      "text/plain": [
       "array([[ 1.        , -0.16719553, -0.25194448],\n",
       "       [-0.16719553,  1.        , -0.02686075],\n",
       "       [-0.25194448, -0.02686075,  1.        ]])"
      ]
     },
     "execution_count": 36,
     "metadata": {},
     "output_type": "execute_result"
    }
   ],
   "source": [
    "np.corrcoef([pd.to_numeric(df['date']), df['visit_c'], df['order_c']])"
   ]
  },
  {
   "cell_type": "markdown",
   "id": "7ddf5ab1",
   "metadata": {},
   "source": [
    "No significant correlations. Check correlations for groups A and B"
   ]
  },
  {
   "cell_type": "code",
   "execution_count": 37,
   "id": "2a5dfb8b",
   "metadata": {},
   "outputs": [
    {
     "data": {
      "text/plain": [
       "array([[ 1.        , -0.19629499, -0.30651939],\n",
       "       [-0.19629499,  1.        ,  0.08455608],\n",
       "       [-0.30651939,  0.08455608,  1.        ]])"
      ]
     },
     "execution_count": 37,
     "metadata": {},
     "output_type": "execute_result"
    }
   ],
   "source": [
    "np.corrcoef([pd.to_numeric(df.query('group == \"A\"')['date']), df.query('group == \"A\"')['visit_c'], df.query('group == \"A\"')['order_c']])"
   ]
  },
  {
   "cell_type": "code",
   "execution_count": 38,
   "id": "18efd1e2",
   "metadata": {},
   "outputs": [
    {
     "data": {
      "text/plain": [
       "array([[ 1.        , -0.13968267, -0.21285857],\n",
       "       [-0.13968267,  1.        , -0.15640713],\n",
       "       [-0.21285857, -0.15640713,  1.        ]])"
      ]
     },
     "execution_count": 38,
     "metadata": {},
     "output_type": "execute_result"
    }
   ],
   "source": [
    "np.corrcoef([pd.to_numeric(df.query('group == \"B\"')['date']), df.query('group == \"B\"')['visit_c'], df.query('group == \"B\"')['order_c']])"
   ]
  },
  {
   "cell_type": "markdown",
   "id": "b05b9838",
   "metadata": {},
   "source": [
    "Again no correlations. Look at scatterplots"
   ]
  },
  {
   "cell_type": "markdown",
   "id": "fe3756b6",
   "metadata": {},
   "source": [
    "Check if count of orders depend on date"
   ]
  },
  {
   "cell_type": "code",
   "execution_count": 39,
   "id": "e79ee787",
   "metadata": {},
   "outputs": [
    {
     "data": {
      "image/png": "[encoded data removed]",
      "text/plain": [
       "<Figure size 576x432 with 1 Axes>"
      ]
     },
     "metadata": {
      "needs_background": "light"
     },
     "output_type": "display_data"
    }
   ],
   "source": [
    "ax = df.plot.scatter(y='order_c', x='date', figsize=(8,6), c=df['group'].map({\"A\": \"blue\", \"B\": \"red\"}))\n",
    "ax.tick_params(axis='x', labelrotation=30)"
   ]
  },
  {
   "cell_type": "markdown",
   "id": "83ecba45",
   "metadata": {},
   "source": [
    "There is no trend, no collelation, no outliers"
   ]
  },
  {
   "cell_type": "markdown",
   "id": "d7f01b84",
   "metadata": {},
   "source": [
    "Check if count of visits depend on date"
   ]
  },
  {
   "cell_type": "code",
   "execution_count": 40,
   "id": "3e5e86ce",
   "metadata": {
    "scrolled": false
   },
   "outputs": [
    {
     "data": {
      "image/png": "[encoded data removed]",
      "text/plain": [
       "<Figure size 576x432 with 1 Axes>"
      ]
     },
     "metadata": {
      "needs_background": "light"
     },
     "output_type": "display_data"
    }
   ],
   "source": [
    "ax = df.plot.scatter(y='visit_c', x='date', figsize=(8,6), c=df['group'].map({\"A\": \"blue\", \"B\": \"red\"}))\n",
    "ax.tick_params(axis='x', labelrotation=30)"
   ]
  },
  {
   "cell_type": "markdown",
   "id": "38093f09",
   "metadata": {},
   "source": [
    "There is no trend, no collelation, no outliers"
   ]
  },
  {
   "cell_type": "markdown",
   "id": "e3f471ab",
   "metadata": {},
   "source": [
    "Check if count of visits depend on count of orders"
   ]
  },
  {
   "cell_type": "code",
   "execution_count": 41,
   "id": "883adb43",
   "metadata": {},
   "outputs": [
    {
     "data": {
      "text/plain": [
       "<AxesSubplot:xlabel='visit_c', ylabel='order_c'>"
      ]
     },
     "execution_count": 41,
     "metadata": {},
     "output_type": "execute_result"
    },
    {
     "data": {
      "image/png": "[encoded data removed]",
      "text/plain": [
       "<Figure size 576x432 with 1 Axes>"
      ]
     },
     "metadata": {
      "needs_background": "light"
     },
     "output_type": "display_data"
    }
   ],
   "source": [
    "df.plot.scatter(x='visit_c', y='order_c', figsize=(8,6), c=df['group'].map({\"A\": \"blue\", \"B\": \"red\"}) )"
   ]
  },
  {
   "cell_type": "markdown",
   "id": "b0a6cad1",
   "metadata": {},
   "source": [
    "There is no trend, no collelation, no outliers\n",
    "\n",
    "**NOTE**  this is very strange, count of orders does not depend on count of visits"
   ]
  },
  {
   "cell_type": "markdown",
   "id": "4116dc93",
   "metadata": {},
   "source": [
    "### conversions"
   ]
  },
  {
   "cell_type": "code",
   "execution_count": 49,
   "id": "60973a34",
   "metadata": {},
   "outputs": [
    {
     "data": {
      "text/html": [
       "<div>\n",
       "<style scoped>\n",
       "    .dataframe tbody tr th:only-of-type {\n",
       "        vertical-align: middle;\n",
       "    }\n",
       "\n",
       "    .dataframe tbody tr th {\n",
       "        vertical-align: top;\n",
       "    }\n",
       "\n",
       "    .dataframe thead th {\n",
       "        text-align: right;\n",
       "    }\n",
       "</style>\n",
       "<table border=\"1\" class=\"dataframe\">\n",
       "  <thead>\n",
       "    <tr style=\"text-align: right;\">\n",
       "      <th></th>\n",
       "      <th>A_o</th>\n",
       "      <th>B_o</th>\n",
       "      <th>A_v</th>\n",
       "      <th>B_v</th>\n",
       "      <th>A</th>\n",
       "      <th>B</th>\n",
       "    </tr>\n",
       "    <tr>\n",
       "      <th>date</th>\n",
       "      <th></th>\n",
       "      <th></th>\n",
       "      <th></th>\n",
       "      <th></th>\n",
       "      <th></th>\n",
       "      <th></th>\n",
       "    </tr>\n",
       "  </thead>\n",
       "  <tbody>\n",
       "    <tr>\n",
       "      <th>2019-08-01</th>\n",
       "      <td>23.0</td>\n",
       "      <td>17.0</td>\n",
       "      <td>718.0</td>\n",
       "      <td>709.0</td>\n",
       "      <td>0.032033</td>\n",
       "      <td>0.023977</td>\n",
       "    </tr>\n",
       "    <tr>\n",
       "      <th>2019-08-02</th>\n",
       "      <td>19.0</td>\n",
       "      <td>23.0</td>\n",
       "      <td>618.0</td>\n",
       "      <td>580.0</td>\n",
       "      <td>0.030744</td>\n",
       "      <td>0.039655</td>\n",
       "    </tr>\n",
       "    <tr>\n",
       "      <th>2019-08-03</th>\n",
       "      <td>24.0</td>\n",
       "      <td>14.0</td>\n",
       "      <td>507.0</td>\n",
       "      <td>507.0</td>\n",
       "      <td>0.047337</td>\n",
       "      <td>0.027613</td>\n",
       "    </tr>\n",
       "    <tr>\n",
       "      <th>2019-08-04</th>\n",
       "      <td>11.0</td>\n",
       "      <td>14.0</td>\n",
       "      <td>712.0</td>\n",
       "      <td>767.0</td>\n",
       "      <td>0.015449</td>\n",
       "      <td>0.018253</td>\n",
       "    </tr>\n",
       "    <tr>\n",
       "      <th>2019-08-05</th>\n",
       "      <td>22.0</td>\n",
       "      <td>21.0</td>\n",
       "      <td>753.0</td>\n",
       "      <td>705.0</td>\n",
       "      <td>0.029216</td>\n",
       "      <td>0.029787</td>\n",
       "    </tr>\n",
       "  </tbody>\n",
       "</table>\n",
       "</div>"
      ],
      "text/plain": [
       "             A_o   B_o    A_v    B_v         A         B\n",
       "date                                                    \n",
       "2019-08-01  23.0  17.0  718.0  709.0  0.032033  0.023977\n",
       "2019-08-02  19.0  23.0  618.0  580.0  0.030744  0.039655\n",
       "2019-08-03  24.0  14.0  507.0  507.0  0.047337  0.027613\n",
       "2019-08-04  11.0  14.0  712.0  767.0  0.015449  0.018253\n",
       "2019-08-05  22.0  21.0  753.0  705.0  0.029216  0.029787"
      ]
     },
     "execution_count": 49,
     "metadata": {},
     "output_type": "execute_result"
    }
   ],
   "source": [
    "conversion = df.pivot_table(index='date', columns='group', values=['visit_c', 'order_c'], aggfunc='sum')\n",
    "conversion.columns = ['A_o', 'B_o', 'A_v', 'B_v']\n",
    "conversion['A'] = conversion['A_o'] / conversion['A_v']\n",
    "conversion['B'] = conversion['B_o'] / conversion['B_v']\n",
    "# conversion.drop(labels=['A_o', 'B_o', 'A_v', 'B_v'], axis=1, inplace=True)\n",
    "conversion.head()"
   ]
  },
  {
   "cell_type": "code",
   "execution_count": 62,
   "id": "aaceb6fa",
   "metadata": {},
   "outputs": [
    {
     "data": {
      "image/png": "[encoded data removed]",
      "text/plain": [
       "<Figure size 576x432 with 1 Axes>"
      ]
     },
     "metadata": {
      "needs_background": "light"
     },
     "output_type": "display_data"
    }
   ],
   "source": [
    "conversion[['A', 'B']].plot(figsize=(8,6), title=\"Conversions A/B dy days\");"
   ]
  },
  {
   "cell_type": "markdown",
   "id": "730b0eb5",
   "metadata": {},
   "source": [
    "Conversions rates on last half period almost the same.<br> \n",
    "Conversions rates on first half looks different. "
   ]
  },
  {
   "cell_type": "code",
   "execution_count": 68,
   "id": "a5fb5f21",
   "metadata": {},
   "outputs": [
    {
     "data": {
      "image/png": "[encoded data removed]",
      "text/plain": [
       "<Figure size 576x432 with 1 Axes>"
      ]
     },
     "metadata": {
      "needs_background": "light"
     },
     "output_type": "display_data"
    }
   ],
   "source": [
    "ax = conversion.plot.scatter(x='A_v', y='B_v', figsize=(8,6), c=\"blue\", title=\"Relation between visitors B and visitors A\")\n",
    "# conversion.plot.scatter(x='B_o', y='B', figsize=(8,6), c=\"red\", ax=ax)"
   ]
  },
  {
   "cell_type": "markdown",
   "id": "1bb38812",
   "metadata": {},
   "source": [
    "This is what we expected. Visitors by days are correlated in groups A/B"
   ]
  },
  {
   "cell_type": "code",
   "execution_count": 67,
   "id": "895ff238",
   "metadata": {},
   "outputs": [
    {
     "data": {
      "image/png": "[encoded data removed]",
      "text/plain": [
       "<Figure size 576x432 with 1 Axes>"
      ]
     },
     "metadata": {
      "needs_background": "light"
     },
     "output_type": "display_data"
    }
   ],
   "source": [
    "ax = conversion.plot.scatter(x='A_o', y='B_o', figsize=(8,6), c=\"blue\", title=\"Relation between orders B and orders A\")\n",
    "# conversion.plot.scatter(x='B_o', y='B', figsize=(8,6), c=\"red\", ax=ax)"
   ]
  },
  {
   "cell_type": "markdown",
   "id": "967b57bc",
   "metadata": {},
   "source": [
    "This is unexpected. Orders by days are not correlated in groups A/B"
   ]
  },
  {
   "cell_type": "markdown",
   "id": "92633e5f",
   "metadata": {},
   "source": [
    "**CONCLUSIONS**\n",
    "\n",
    "- visits A and B have hight correlation, however orders A and B are not related in any way\n",
    "- orders are not corelated with visits(!!!)\n",
    "- conversions during first hald period looks different with last half period. Need to test(!!!)\n",
    "\n",
    "<font color=\"red\">**Theese are very anxious conclusions. Our model of random Bernulli process is called into question now.**</p>"
   ]
  },
  {
   "cell_type": "markdown",
   "id": "5ab3391e",
   "metadata": {},
   "source": [
    "# Post hoc"
   ]
  },
  {
   "cell_type": "code",
   "execution_count": 44,
   "id": "46d1ffa0",
   "metadata": {},
   "outputs": [],
   "source": [
    "def test_contingency_table(test_results, id_alternative=0):\n",
    "    '''\n",
    "    Function to test results AB test\n",
    "    :param test_results: Pandas DataFrame \n",
    "        total_A  success_A\n",
    "        total_B   success_B\n",
    "    :param id_alternative: set id from list kinds alternative ['two-sided', 'less', 'greater']\n",
    "    '''\n",
    "    display(test_results)\n",
    "\n",
    "    n1 = test_results.values[0][0]\n",
    "    n2 = test_results.values[1][0]\n",
    "    k1 = test_results.values[0][1]\n",
    "    k2 = test_results.values[1][1]\n",
    "\n",
    "    p1 = k1/n1\n",
    "    p2 = k2/n2\n",
    "\n",
    "    print('Conversion rates:')\n",
    "    print('  A:', p1)\n",
    "    print('  B:', p2)\n",
    "\n",
    "\n",
    "    contingency_table = [[n1-k1, k1], [n2-k2, k2]]\n",
    "    print('\\ncontingency table\\n', contingency_table)\n",
    "    \n",
    "    alternative_dict = [['two-sided', 'less', 'greater'], ['two-sided', 'smaller', 'larger']]\n",
    "    \n",
    "    print('\\n\\nalternative:' , alternative_dict[0][id_alternative])\n",
    "\n",
    "    print(''.ljust(96, '-'))\n",
    "    print(' ' * 4 + 'EXACT Fisher test')\n",
    "    print(''.ljust(96, '-'))\n",
    "\n",
    "    # fisher_exact\n",
    "    oddsratio, pvalue = stats.fisher_exact(contingency_table, alternative=alternative_dict[0][id_alternative]) # 'two-sided', 'less', 'greater'\n",
    "    print(f'\\tp-value: {pvalue:.7f} and oddsratio: {oddsratio:.4f}\\n')\n",
    "    inv_id_alternative = id_alternative\n",
    "    if inv_id_alternative == 2:\n",
    "        inv_id_alternative = 1\n",
    "    elif inv_id_alternative == 1:\n",
    "        inv_id_alternative = 2\n",
    "    print('\\tpower:', \n",
    "          sms.power_proportions_2indep(\n",
    "            diff=p1-p2, \n",
    "            prop2=p2, \n",
    "            nobs1=n1, \n",
    "            ratio=n2/n1, \n",
    "            alpha=significance, \n",
    "            alternative=alternative_dict[1][inv_id_alternative], \n",
    "            return_results=False\n",
    "          )\n",
    "         )\n",
    "    if significance > pvalue:   \n",
    "        print('\\tH0-hypotesis of equality of probability of success in two populations is REJECTED.\\n\\tH1-hypotesis about difference is ACCEPTED')\n",
    "    else:\n",
    "        print('\\tH0-hypotesis of equality of probability of success in two populations COULD NOT BE rejected.')\n",
    "\n",
    "\n",
    "\n",
    "\n",
    "    print('\\n\\n'.ljust(96, '-'))\n",
    "    print(' ' * 4 + 'APPROXIMATE normality')\n",
    "    print(''.ljust(96, '-'))\n",
    "    print(' ' * 6 + 'Z-test')    \n",
    "\n",
    "    # from statsmodels.stats.proportion import proportions_ztest, proportion_confint\n",
    "\n",
    "\n",
    "    # Рассчитываем pvalue и Z статистику chi2 \n",
    "    z_stat, pval = sms.proportions_ztest(count=[k2, k1], nobs=[n2, n1], value=0, alternative=alternative_dict[1][id_alternative]) # 'two-sided', 'smaller', 'larger'\n",
    "\n",
    "    # Рассчитываем доверительные интервалы для среднего у выборок \n",
    "    (lower_2, lower_1), (upper_2, upper_1) = sms.proportion_confint(count=[k2, k1], nobs=[n2, n1], alpha=0.05) \n",
    "\n",
    "\n",
    "    print(f'\\tp-value: {pval:.7f} and z statistic: {z_stat:.4f}\\n')\n",
    "    \n",
    "    p= (n1*p1 + n2*p2)/(n1+n2)\n",
    "    # Z statistic\n",
    "    z = (p2-p1)/np.sqrt(p*(1-p)*(1/n1+ 1/n2))\n",
    "\n",
    "    std_  =np.sqrt(p*(1-p)*(1/n1+ 1/n2))\n",
    "    x_ = (p2-p1)\n",
    "\n",
    "    t = norm.ppf(1-significance, loc=0, scale=std_)\n",
    "    print('\\tpower:', 1-norm.cdf(t, loc=x_, scale=std_))\n",
    "    \n",
    "    print(f'\\n\\tci 95% for group B: [{lower_2:.3f}, {upper_2:.3f}]') \n",
    "    print(f'\\tci 95% for group A: [{lower_1:.3f}, {upper_1:.3f}]')\n",
    "    \n",
    "    if significance > pval:   \n",
    "        print('\\tH0-hypotesis of equality of probability of success in two populations is REJECTED.\\n\\tH1-hypotesis about difference is ACCEPTED')\n",
    "    else:\n",
    "        print('\\tH0-hypotesis of equality of probability of success in two populations COULD NOT BE rejected.')"
   ]
  },
  {
   "cell_type": "markdown",
   "id": "52c30c30",
   "metadata": {},
   "source": [
    "## Test that true odds ratios are equal"
   ]
  },
  {
   "cell_type": "markdown",
   "id": "be665af6",
   "metadata": {},
   "source": [
    "We suppose that in each group there is a probability that visitor become a client (we call such probability in limited group as conversion rate)\n",
    "Such process generated by Bernulli process\n",
    "\n",
    "Test hypotesis:\n",
    "* H0: probability of success in 1st population is the same as probability of success in 2nd population\n",
    "* H1: probability of success in 2nd population is greater than probability of success in 1st population\n",
    "\n",
    "Exact test is **stats.fisher_exact**. But its computational difficult, and in cases with big samples (we have more than 16000 in each group) useful assumption of normality (due to central limit teorem). Useful **proportions_ztest**\n"
   ]
  },
  {
   "cell_type": "code",
   "execution_count": 45,
   "id": "2d4b5970",
   "metadata": {},
   "outputs": [
    {
     "data": {
      "text/html": [
       "<div>\n",
       "<style scoped>\n",
       "    .dataframe tbody tr th:only-of-type {\n",
       "        vertical-align: middle;\n",
       "    }\n",
       "\n",
       "    .dataframe tbody tr th {\n",
       "        vertical-align: top;\n",
       "    }\n",
       "\n",
       "    .dataframe thead th {\n",
       "        text-align: right;\n",
       "    }\n",
       "</style>\n",
       "<table border=\"1\" class=\"dataframe\">\n",
       "  <thead>\n",
       "    <tr style=\"text-align: right;\">\n",
       "      <th></th>\n",
       "      <th>visit_c</th>\n",
       "      <th>order_c</th>\n",
       "    </tr>\n",
       "    <tr>\n",
       "      <th>group</th>\n",
       "      <th></th>\n",
       "      <th></th>\n",
       "    </tr>\n",
       "  </thead>\n",
       "  <tbody>\n",
       "    <tr>\n",
       "      <th>A</th>\n",
       "      <td>9644.0</td>\n",
       "      <td>241.0</td>\n",
       "    </tr>\n",
       "    <tr>\n",
       "      <th>B</th>\n",
       "      <td>9550.0</td>\n",
       "      <td>289.0</td>\n",
       "    </tr>\n",
       "  </tbody>\n",
       "</table>\n",
       "</div>"
      ],
      "text/plain": [
       "       visit_c  order_c\n",
       "group                  \n",
       "A       9644.0    241.0\n",
       "B       9550.0    289.0"
      ]
     },
     "metadata": {},
     "output_type": "display_data"
    },
    {
     "name": "stdout",
     "output_type": "stream",
     "text": [
      "Conversion rates:\n",
      "  A: 0.024989630858564912\n",
      "  B: 0.030261780104712043\n",
      "\n",
      "contingency table\n",
      " [[9403.0, 241.0], [9261.0, 289.0]]\n",
      "\n",
      "\n",
      "alternative: greater\n",
      "------------------------------------------------------------------------------------------------\n",
      "    EXACT Fisher test\n",
      "------------------------------------------------------------------------------------------------\n",
      "\tp-value: 0.0144200 and oddsratio: 1.2176\n",
      "\n",
      "\tpower: 0.720289602506761\n",
      "\tH0-hypotesis of equality of probability of success in two populations is REJECTED.\n",
      "\tH1-hypotesis about difference is ACCEPTED\n",
      "\n",
      "\n",
      "----------------------------------------------------------------------------------------------\n",
      "    APPROXIMATE normality\n",
      "------------------------------------------------------------------------------------------------\n",
      "      Z-test\n",
      "\tp-value: 0.0129154 and z statistic: 2.2287\n",
      "\n",
      "\tpower: 0.7203533844588916\n",
      "\n",
      "\tci 95% for group B: [0.027, 0.034]\n",
      "\tci 95% for group A: [0.022, 0.028]\n",
      "\tH0-hypotesis of equality of probability of success in two populations is REJECTED.\n",
      "\tH1-hypotesis about difference is ACCEPTED\n"
     ]
    }
   ],
   "source": [
    "# first half period\n",
    "test_contingency_table(\n",
    "    test_results=df.query('date < \"2019-08-16\"').groupby(by=['group'])[['visit_c', 'order_c']].sum(),\n",
    "    id_alternative=2\n",
    ")"
   ]
  },
  {
   "cell_type": "code",
   "execution_count": 46,
   "id": "e17a467c",
   "metadata": {},
   "outputs": [
    {
     "data": {
      "text/html": [
       "<div>\n",
       "<style scoped>\n",
       "    .dataframe tbody tr th:only-of-type {\n",
       "        vertical-align: middle;\n",
       "    }\n",
       "\n",
       "    .dataframe tbody tr th {\n",
       "        vertical-align: top;\n",
       "    }\n",
       "\n",
       "    .dataframe thead th {\n",
       "        text-align: right;\n",
       "    }\n",
       "</style>\n",
       "<table border=\"1\" class=\"dataframe\">\n",
       "  <thead>\n",
       "    <tr style=\"text-align: right;\">\n",
       "      <th></th>\n",
       "      <th>visit_c</th>\n",
       "      <th>order_c</th>\n",
       "    </tr>\n",
       "    <tr>\n",
       "      <th>group</th>\n",
       "      <th></th>\n",
       "      <th></th>\n",
       "    </tr>\n",
       "  </thead>\n",
       "  <tbody>\n",
       "    <tr>\n",
       "      <th>A</th>\n",
       "      <td>9003.0</td>\n",
       "      <td>227.0</td>\n",
       "    </tr>\n",
       "    <tr>\n",
       "      <th>B</th>\n",
       "      <td>9274.0</td>\n",
       "      <td>259.0</td>\n",
       "    </tr>\n",
       "  </tbody>\n",
       "</table>\n",
       "</div>"
      ],
      "text/plain": [
       "       visit_c  order_c\n",
       "group                  \n",
       "A       9003.0    227.0\n",
       "B       9274.0    259.0"
      ]
     },
     "metadata": {},
     "output_type": "display_data"
    },
    {
     "name": "stdout",
     "output_type": "stream",
     "text": [
      "Conversion rates:\n",
      "  A: 0.025213817616350106\n",
      "  B: 0.02792753935734311\n",
      "\n",
      "contingency table\n",
      " [[8776.0, 227.0], [9015.0, 259.0]]\n",
      "\n",
      "\n",
      "alternative: greater\n",
      "------------------------------------------------------------------------------------------------\n",
      "    EXACT Fisher test\n",
      "------------------------------------------------------------------------------------------------\n",
      "\tp-value: 0.1369440 and oddsratio: 1.1107\n",
      "\n",
      "\tpower: 0.3067139675436523\n",
      "\tH0-hypotesis of equality of probability of success in two populations COULD NOT BE rejected.\n",
      "\n",
      "\n",
      "----------------------------------------------------------------------------------------------\n",
      "    APPROXIMATE normality\n",
      "------------------------------------------------------------------------------------------------\n",
      "      Z-test\n",
      "\tp-value: 0.1271312 and z statistic: 1.1401\n",
      "\n",
      "\tpower: 0.30685089863684467\n",
      "\n",
      "\tci 95% for group B: [0.025, 0.031]\n",
      "\tci 95% for group A: [0.022, 0.028]\n",
      "\tH0-hypotesis of equality of probability of success in two populations COULD NOT BE rejected.\n"
     ]
    }
   ],
   "source": [
    "test_contingency_table(\n",
    "    test_results=df.query('date >= \"2019-08-16\"').groupby(by=['group'])[['visit_c', 'order_c']].sum(),\n",
    "    id_alternative=2\n",
    ")"
   ]
  },
  {
   "cell_type": "code",
   "execution_count": 47,
   "id": "f1a5fcb0",
   "metadata": {},
   "outputs": [
    {
     "data": {
      "text/html": [
       "<div>\n",
       "<style scoped>\n",
       "    .dataframe tbody tr th:only-of-type {\n",
       "        vertical-align: middle;\n",
       "    }\n",
       "\n",
       "    .dataframe tbody tr th {\n",
       "        vertical-align: top;\n",
       "    }\n",
       "\n",
       "    .dataframe thead th {\n",
       "        text-align: right;\n",
       "    }\n",
       "</style>\n",
       "<table border=\"1\" class=\"dataframe\">\n",
       "  <thead>\n",
       "    <tr style=\"text-align: right;\">\n",
       "      <th></th>\n",
       "      <th>visit_c</th>\n",
       "      <th>order_c</th>\n",
       "    </tr>\n",
       "    <tr>\n",
       "      <th>group</th>\n",
       "      <th></th>\n",
       "      <th></th>\n",
       "    </tr>\n",
       "  </thead>\n",
       "  <tbody>\n",
       "    <tr>\n",
       "      <th>A</th>\n",
       "      <td>18647.0</td>\n",
       "      <td>468.0</td>\n",
       "    </tr>\n",
       "    <tr>\n",
       "      <th>B</th>\n",
       "      <td>18824.0</td>\n",
       "      <td>548.0</td>\n",
       "    </tr>\n",
       "  </tbody>\n",
       "</table>\n",
       "</div>"
      ],
      "text/plain": [
       "       visit_c  order_c\n",
       "group                  \n",
       "A      18647.0    468.0\n",
       "B      18824.0    548.0"
      ]
     },
     "metadata": {},
     "output_type": "display_data"
    },
    {
     "name": "stdout",
     "output_type": "stream",
     "text": [
      "Conversion rates:\n",
      "  A: 0.0250978709712018\n",
      "  B: 0.029111772205694858\n",
      "\n",
      "contingency table\n",
      " [[18179.0, 468.0], [18276.0, 548.0]]\n",
      "\n",
      "\n",
      "alternative: greater\n",
      "------------------------------------------------------------------------------------------------\n",
      "    EXACT Fisher test\n",
      "------------------------------------------------------------------------------------------------\n",
      "\tp-value: 0.0091084 and oddsratio: 1.1647\n",
      "\n",
      "\tpower: 0.7725866536560142\n",
      "\tH0-hypotesis of equality of probability of success in two populations is REJECTED.\n",
      "\tH1-hypotesis about difference is ACCEPTED\n",
      "\n",
      "\n",
      "----------------------------------------------------------------------------------------------\n",
      "    APPROXIMATE normality\n",
      "------------------------------------------------------------------------------------------------\n",
      "      Z-test\n",
      "\tp-value: 0.0083799 and z statistic: 2.3919\n",
      "\n",
      "\tpower: 0.7724927573692055\n",
      "\n",
      "\tci 95% for group B: [0.027, 0.032]\n",
      "\tci 95% for group A: [0.023, 0.027]\n",
      "\tH0-hypotesis of equality of probability of success in two populations is REJECTED.\n",
      "\tH1-hypotesis about difference is ACCEPTED\n"
     ]
    }
   ],
   "source": [
    "test_contingency_table(\n",
    "    test_results=df.groupby(by=['group'])[['visit_c', 'order_c']].sum(),\n",
    "    id_alternative=2\n",
    ")"
   ]
  },
  {
   "cell_type": "markdown",
   "id": "9d4665e4",
   "metadata": {},
   "source": [
    "**CONCLUSION**<br>\n",
    "We achieve strong opposite results on theese first and last periods.\n",
    "First and lash halfs of period statistically significant different.\n",
    "\n",
    "Howewer we chould notice, power is VERY low on last half of period.<BR>Test could make II-type error (do not reject Ho when H1 is True)\n",
    "    \n",
    "    Results are not clear\n"
   ]
  },
  {
   "cell_type": "markdown",
   "id": "d882a473",
   "metadata": {},
   "source": [
    "# SUMMARY"
   ]
  },
  {
   "cell_type": "markdown",
   "id": "9cb7cac5",
   "metadata": {},
   "source": [
    "We plan and evaluate the AB test.\n",
    "- Collected data was technically correct (no duplicates, no empties, groups are balanced, correct dates)\n",
    "- There was some outliers in revenue. But revenue doesnt interesting for the test\n",
    "\n",
    "Some issues arise:\n",
    "- 58 visitors were in both groups \"A\" and \"B\". We eliminate incorrect orders from odrers and visits\n",
    "- orders are not corelated with visits. We unable to fix this. We should consider case our model (there is some probability of success to visitor to make an order) is not represent reality and orders depend on other sales channel. \n",
    "\n",
    "We achieve strong opposite statistically significant results on the first and last half periods.\n",
    "- on first half there was an effect and we reject null-hypotesis with low level I-type error = 1.4% and medium (acceptable) II-type error = 28% \n",
    "- on last half there wasn't an effect and we couldn't reject null-hypotesis. With hight I-type error = 13.7% and hight II-type error = 70%. Test could make II-type error (do not reject Ho when H1 is True)"
   ]
  },
  {
   "cell_type": "markdown",
   "id": "c48458d6",
   "metadata": {},
   "source": [
    "**RECOMMENDATIONS:**\n",
    "\n",
    "1. Fix users in both groups\n",
    "2. Explain why orders are not correlated with visits\n",
    "3. Proceed test at least 2 weeks to eliminate doubts and concerns"
   ]
  },
  {
   "cell_type": "code",
   "execution_count": null,
   "id": "6277880a",
   "metadata": {},
   "outputs": [],
   "source": []
  }
 ],
 "metadata": {
  "kernelspec": {
   "display_name": "Python 3 (ipykernel)",
   "language": "python",
   "name": "python3"
  },
  "language_info": {
   "codemirror_mode": {
    "name": "ipython",
    "version": 3
   },
   "file_extension": ".py",
   "mimetype": "text/x-python",
   "name": "python",
   "nbconvert_exporter": "python",
   "pygments_lexer": "ipython3",
   "version": "3.9.12"
  },
  "toc": {
   "base_numbering": 1,
   "nav_menu": {},
   "number_sections": true,
   "sideBar": true,
   "skip_h1_title": false,
   "title_cell": "Table of Contents",
   "title_sidebar": "Contents",
   "toc_cell": false,
   "toc_position": {
    "height": "calc(100% - 180px)",
    "left": "10px",
    "top": "150px",
    "width": "383.391px"
   },
   "toc_section_display": true,
   "toc_window_display": true
  },
  "varInspector": {
   "cols": {
    "lenName": 16,
    "lenType": 16,
    "lenVar": 40
   },
   "kernels_config": {
    "python": {
     "delete_cmd_postfix": "",
     "delete_cmd_prefix": "del ",
     "library": "var_list.py",
     "varRefreshCmd": "print(var_dic_list())"
    },
    "r": {
     "delete_cmd_postfix": ") ",
     "delete_cmd_prefix": "rm(",
     "library": "var_list.r",
     "varRefreshCmd": "cat(var_dic_list()) "
    }
   },
   "types_to_exclude": [
    "module",
    "function",
    "builtin_function_or_method",
    "instance",
    "_Feature"
   ],
   "window_display": false
  }
 },
 "nbformat": 4,
 "nbformat_minor": 5
}
