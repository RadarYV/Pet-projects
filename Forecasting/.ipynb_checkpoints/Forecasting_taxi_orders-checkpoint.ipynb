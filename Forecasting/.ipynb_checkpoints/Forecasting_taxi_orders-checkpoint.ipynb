{
 "cells": [
  {
   "cell_type": "markdown",
   "metadata": {},
   "source": [
    "#  Forecasting taxi orders"
   ]
  },
  {
   "cell_type": "markdown",
   "metadata": {},
   "source": [
    "The company \"An awesome taxi\" collected historical data on taxi orders at airports. To attract more drivers during peak load, you need to predict the number of taxi orders for the next hour. Build a model for such a prediction.\n",
    "\n",
    "The value of the *RMSE* metric in the test sample should be no more than 48.\n",
    "\n",
    "You need to:\n",
    "\n",
    "1. Download the data and resample it one hour at a time.\n",
    "2. Analyze the data.\n",
    "3. Train different models with different hyperparameters. Make a test sample of 10% of the original data.\n",
    "4. Check the data on the test sample and draw conclusions.\n",
    "\n",
    "\n",
    "The data is in the file `taxi.csv'. The number of orders is in the `num_orders` column (from English *number of orders*, \"number of orders\")."
   ]
  },
  {
   "cell_type": "markdown",
   "metadata": {},
   "source": [
    "## Preparation"
   ]
  },
  {
   "cell_type": "code",
   "execution_count": 59,
   "metadata": {},
   "outputs": [],
   "source": [
    "import pandas as pd\n",
    "import matplotlib.pyplot as plt\n",
    "import time\n",
    "import datetime as dt\n",
    "import numpy as np\n",
    "import seaborn as sns\n",
    "from numpy.random import RandomState\n",
    "from pylab import rcParams\n",
    "# from sklearn.metrics import r2_score\n",
    "# from sklearn.preprocessing import normalize\n",
    "from sklearn.model_selection import train_test_split\n",
    "from datetime import datetime, time\n",
    "from sklearn.model_selection import GridSearchCV\n",
    "from sklearn.linear_model import LinearRegression, SGDRegressor\n",
    "from sklearn.ensemble import RandomForestRegressor\n",
    "from sklearn.metrics import make_scorer\n",
    "from sklearn.metrics import mean_absolute_error, mean_squared_error\n",
    "\n",
    "from scipy.fft import fft, fftfreq\n",
    "\n",
    "import warnings\n",
    "warnings.filterwarnings(\"ignore\")\n",
    "\n",
    "from tqdm import tqdm, notebook\n",
    "\n",
    "\n",
    "from lightgbm import LGBMRegressor\n",
    "\n",
    "from statsmodels.tsa.stattools import kpss, adfuller\n",
    "from statsmodels.tsa.holtwinters import ExponentialSmoothing\n",
    "from statsmodels.tsa.seasonal import STL\n",
    "from statsmodels.tsa.api import STLForecast\n",
    "from statsmodels.tsa.arima.model import ARIMA\n",
    "from statsmodels.tsa.statespace.sarimax import SARIMAX\n",
    "from statsmodels.graphics.tsaplots import plot_acf, plot_pacf\n",
    "from scipy.stats import boxcox\n",
    "from scipy.special import inv_boxcox\n",
    "\n",
    "from prophet import Prophet\n"
   ]
  },
  {
   "cell_type": "code",
   "execution_count": 60,
   "metadata": {},
   "outputs": [
    {
     "data": {
      "text/plain": [
       "<Figure size 864x576 with 0 Axes>"
      ]
     },
     "metadata": {},
     "output_type": "display_data"
    }
   ],
   "source": [
    "rcParams['figure.figsize'] = (12, 8)\n",
    "\n",
    "pd.options.display.float_format = '{:,.3f}'.format\n",
    "pd.options.display.max_columns = 100\n",
    "pd.set_option('display.max_rows', 200)\n",
    "pd.options.mode.chained_assignment = None\n",
    "\n",
    "plt.rcParams['image.cmap'] = 'Set2'\n",
    "plt.set_cmap(\"Set2\");\n",
    "\n",
    "sns.set_style(\"whitegrid\", {'figure.facecolor': '0.97'});\n",
    "sns.set_palette(\"Set2\");\n",
    "\n",
    "RANDOM_STATE = 2007"
   ]
  },
  {
   "cell_type": "code",
   "execution_count": 61,
   "metadata": {},
   "outputs": [],
   "source": [
    "# A function for studying the dataset, we will apply it to different dataframes\n",
    "def evaluate_df(df, show_corr_zero_plots = False, show_corr_null_plots=False, show_scatter_matrix=False):\n",
    "    print('\\n------SAMPLE--------')\n",
    "    display(df.sample(min(5,len(df))))\n",
    "    print('\\n------DTYPES--------')\n",
    "    print(df.dtypes)\n",
    "\n",
    "    # count of NaN\n",
    "    print('\\n\\n------NaN & zero--------')\n",
    "    na = pd.DataFrame(index=df.columns\n",
    "                      , data={\n",
    "                          'NA':df.isna().sum().values\n",
    "                          , 'filled': df.notna().sum().values\n",
    "                          , 'zero':df.isin([0,'0']).sum()\n",
    "                      }\n",
    "                     )\n",
    "    na['%na'] = na['NA']/len(df)*100\n",
    "    print(na.replace(0,'-'))\n",
    "    \n",
    "\n",
    "    display('Numeric columns', df.describe(include=[np.number]).transpose())\n",
    "    "
   ]
  },
  {
   "cell_type": "code",
   "execution_count": 62,
   "metadata": {},
   "outputs": [],
   "source": [
    "def RMSE(y_true, y_pred):\n",
    "    return mean_squared_error(y_true, y_pred, squared=False)\n",
    "\n",
    "def make_features(data, index_feautures, lags, rolling_mean_size):\n",
    "    enhanced_data = data.copy()\n",
    "    if 'Y' in index_feautures:\n",
    "        enhanced_data['year'] = enhanced_data.index.year\n",
    "    if 'M' in index_feautures:\n",
    "        enhanced_data['month'] = enhanced_data.index.month\n",
    "    if 'D' in index_feautures:\n",
    "        enhanced_data['day'] = enhanced_data.index.day\n",
    "    if 'H' in index_feautures:\n",
    "        enhanced_data['hour'] = enhanced_data.index.hour\n",
    "    if 'WD' in index_feautures:\n",
    "        enhanced_data['dayofweek'] = enhanced_data.index.dayofweek\n",
    "    if 'YW' in index_feautures:\n",
    "        enhanced_data['weekofyear'] = enhanced_data.index.weekofyear\n",
    "    \n",
    "    if type(enhanced_data) == pd.Series:\n",
    "        enhanced_data = enhanced_data.to_frame()\n",
    "\n",
    "    data_column = enhanced_data[enhanced_data.columns[0]]\n",
    "    \n",
    "    for lag in lags:\n",
    "        enhanced_data['lag_{}'.format(lag)] = data_column.shift(lag)\n",
    "\n",
    "    enhanced_data['rolling_mean'] = data_column.shift().rolling(rolling_mean_size).mean()\n",
    "    return enhanced_data\n",
    "\n",
    "def plot_cum_rmse(t):\n",
    "    cs = [np.nan]\n",
    "    for i in range(1,len(t)):\n",
    "        cs.append(RMSE(t.iloc[:i,0], t.iloc[:i,1]))\n",
    "    t['rmse_cum'] = cs\n",
    "    ax = t['rmse_cum'].plot(xlabel='points', ylabel='RMSE')\n",
    "    ax.set_title('Change RMSE on adding points')\n",
    "    \n",
    "    print('RMSE:', RMSE(t[0], t[1]))\n",
    "    print('MAE:', mean_absolute_error(t[0],t[1]))\n",
    "    print('MeanError:', np.mean(t[0]-t[1]))\n",
    "    plt.show()"
   ]
  },
  {
   "cell_type": "code",
   "execution_count": 63,
   "metadata": {},
   "outputs": [],
   "source": [
    "# Series Stationarity test (ADF and KPSS)\n",
    "def test_stationarity(ts):\n",
    "    statistic, p_value, n_lags, nobs, critical_values, icbest = adfuller(ts, maxlag=None, regression='ct', autolag='AIC', store=False, regresults=False)\n",
    "\n",
    "    print(f'ADF\\n----------------------\\nStatistic: {statistic}')\n",
    "    print(f'p-value: {p_value}')\n",
    "    print(f'num lags: {n_lags}')\n",
    "    print('Critial Values:')\n",
    "    for key, value in critical_values.items():\n",
    "        print(f'   {key} : {value}')\n",
    "    if p_value <0.05:\n",
    "        print('Result:\\n\\tH0 rejected (H0: The data is not stationary).\\n\\tH1 accepted: The data is stationary around a trend\\n-----------------------\\n')\n",
    "    else:\n",
    "        print('Result:\\n\\tH0 could not be rejected (H0: The data is not stationary).\\n-----------------------\\n')\n",
    "\n",
    "\n",
    "\n",
    "    statistic, p_value, n_lags, critical_values = kpss(ts, regression='ct', nlags='legacy', store=False)\n",
    "    print(f'KPSS\\n----------------------\\nStatistic: {statistic}')\n",
    "    print(f'p-value: {p_value}')\n",
    "    print(f'num lags: {n_lags}')\n",
    "    print('Critial Values:')\n",
    "    for key, value in critical_values.items():\n",
    "        print(f'   {key} : {value}')\n",
    "    # print(f'Result: The series is {\"not \" if p_value < 0.05 else \"\"}stationary\\n-----------------------\\n')\n",
    "    if p_value <0.05:\n",
    "        print('Result:\\n\\tH0 rejected (H0: The data is stationary around a trend).\\n\\tH1 accepted: The data is not stationary\\n-----------------------\\n')\n",
    "    else:\n",
    "        print('Result:\\n\\tH0 could not be rejected (H0: The data is stationary around a trend).\\n-----------------------\\n')\n",
    "\n",
    "# make FastFurierTransform & evaluate main periods\n",
    "def fft_periods(sgnl):\n",
    "    # series length\n",
    "    N = len(sgnl)\n",
    "\n",
    "    # period\n",
    "    #(you can enter T=1.0/24.0, but it will be a little less convenient)\n",
    "    T = 1.0\n",
    "\n",
    "    # fast 1D Fourier transform\n",
    "    yf = fft(sgnl)\n",
    "    xf = fftfreq(N, T)[:N//2]\n",
    "\n",
    "    # power factor\n",
    "    power = 2.0/N *np.abs(yf[0:N//2])\n",
    "\n",
    "    # Spectrum plot\n",
    "    plt.plot(xf[1:], power[1:])\n",
    "    # plt.grid()\n",
    "    plt.show()\n",
    "\n",
    "    # Let's assemble a frame with periods and power coefficients\n",
    "    t = pd.DataFrame(data={\n",
    "        'period': 1/xf[1:],\n",
    "        'power': power[1:]\n",
    "    })\n",
    "\n",
    "    # np.set_printoptions(formatter={'float_kind':'{:f}'.format})\n",
    "\n",
    "    # Select TOP n and build a histogram (barh)\n",
    "    n=20\n",
    "    tN = t[t['period']<N//2].sort_values(by='power').tail(n).sort_values(by='period')\n",
    "    tN.plot.barh(y='power', x='period', ylabel='period', title=f'TOP{n} periods')\n",
    "    plt.show()\n",
    "\n",
    "# Plotting ACF and PACF\n",
    "def tsplot(y, lags=None, figsize=(18, 8), style='bmh'):\n",
    "    if not isinstance(y, pd.Series):\n",
    "        y = pd.Series(y)\n",
    "    with plt.style.context(style):    \n",
    "        fig = plt.figure(figsize=figsize)\n",
    "        layout = (2, 2)\n",
    "        ts_ax = plt.subplot2grid(layout, (0, 0), colspan=2)\n",
    "        acf_ax = plt.subplot2grid(layout, (1, 0))\n",
    "        pacf_ax = plt.subplot2grid(layout, (1, 1))\n",
    "\n",
    "        y.plot(ax=ts_ax)\n",
    "        ts_ax.set_title('Time Series Analysis Plots')\n",
    "        plot_acf(y, lags=lags, ax=acf_ax, alpha=0.5)\n",
    "        plot_pacf(y, lags=lags, ax=pacf_ax, alpha=0.5)\n",
    "\n",
    "#         print(\"The Dickey-Fuller criterion: p=%f\" % adfuller(y)[1])\n",
    "\n",
    "        plt.tight_layout()\n",
    "    return "
   ]
  },
  {
   "cell_type": "code",
   "execution_count": 64,
   "metadata": {},
   "outputs": [],
   "source": [
    "data = pd.read_csv('../../datasets/taxi.csv', sep=',', index_col=[0], parse_dates=[0])"
   ]
  },
  {
   "cell_type": "code",
   "execution_count": 65,
   "metadata": {},
   "outputs": [],
   "source": [
    "# check for the monotony of the date index and sort if necessary\n",
    "if ~data.index.is_monotonic:\n",
    "    data.sort_index(inplace=True)\n",
    "    \n",
    "# resampling for 1 hour (24 points per day)\n",
    "data = data.resample('1H').sum()\n",
    "dataD = data.resample('1D').sum()"
   ]
  },
  {
   "cell_type": "code",
   "execution_count": 66,
   "metadata": {},
   "outputs": [
    {
     "name": "stdout",
     "output_type": "stream",
     "text": [
      "\n",
      "------SAMPLE--------\n"
     ]
    },
    {
     "data": {
      "text/html": [
       "<div>\n",
       "<style scoped>\n",
       "    .dataframe tbody tr th:only-of-type {\n",
       "        vertical-align: middle;\n",
       "    }\n",
       "\n",
       "    .dataframe tbody tr th {\n",
       "        vertical-align: top;\n",
       "    }\n",
       "\n",
       "    .dataframe thead th {\n",
       "        text-align: right;\n",
       "    }\n",
       "</style>\n",
       "<table border=\"1\" class=\"dataframe\">\n",
       "  <thead>\n",
       "    <tr style=\"text-align: right;\">\n",
       "      <th></th>\n",
       "      <th>num_orders</th>\n",
       "    </tr>\n",
       "    <tr>\n",
       "      <th>datetime</th>\n",
       "      <th></th>\n",
       "    </tr>\n",
       "  </thead>\n",
       "  <tbody>\n",
       "    <tr>\n",
       "      <th>2018-08-06 16:00:00</th>\n",
       "      <td>204</td>\n",
       "    </tr>\n",
       "    <tr>\n",
       "      <th>2018-08-20 16:00:00</th>\n",
       "      <td>172</td>\n",
       "    </tr>\n",
       "    <tr>\n",
       "      <th>2018-08-22 21:00:00</th>\n",
       "      <td>137</td>\n",
       "    </tr>\n",
       "    <tr>\n",
       "      <th>2018-08-09 21:00:00</th>\n",
       "      <td>144</td>\n",
       "    </tr>\n",
       "    <tr>\n",
       "      <th>2018-04-14 02:00:00</th>\n",
       "      <td>52</td>\n",
       "    </tr>\n",
       "  </tbody>\n",
       "</table>\n",
       "</div>"
      ],
      "text/plain": [
       "                     num_orders\n",
       "datetime                       \n",
       "2018-08-06 16:00:00         204\n",
       "2018-08-20 16:00:00         172\n",
       "2018-08-22 21:00:00         137\n",
       "2018-08-09 21:00:00         144\n",
       "2018-04-14 02:00:00          52"
      ]
     },
     "metadata": {},
     "output_type": "display_data"
    },
    {
     "name": "stdout",
     "output_type": "stream",
     "text": [
      "\n",
      "------DTYPES--------\n",
      "num_orders    int64\n",
      "dtype: object\n",
      "\n",
      "\n",
      "------NaN & zero--------\n",
      "           NA  filled  zero %na\n",
      "num_orders  -    4416     1   -\n"
     ]
    },
    {
     "data": {
      "text/plain": [
       "'Числовые поля'"
      ]
     },
     "metadata": {},
     "output_type": "display_data"
    },
    {
     "data": {
      "text/html": [
       "<div>\n",
       "<style scoped>\n",
       "    .dataframe tbody tr th:only-of-type {\n",
       "        vertical-align: middle;\n",
       "    }\n",
       "\n",
       "    .dataframe tbody tr th {\n",
       "        vertical-align: top;\n",
       "    }\n",
       "\n",
       "    .dataframe thead th {\n",
       "        text-align: right;\n",
       "    }\n",
       "</style>\n",
       "<table border=\"1\" class=\"dataframe\">\n",
       "  <thead>\n",
       "    <tr style=\"text-align: right;\">\n",
       "      <th></th>\n",
       "      <th>count</th>\n",
       "      <th>mean</th>\n",
       "      <th>std</th>\n",
       "      <th>min</th>\n",
       "      <th>25%</th>\n",
       "      <th>50%</th>\n",
       "      <th>75%</th>\n",
       "      <th>max</th>\n",
       "    </tr>\n",
       "  </thead>\n",
       "  <tbody>\n",
       "    <tr>\n",
       "      <th>num_orders</th>\n",
       "      <td>4,416.000</td>\n",
       "      <td>84.423</td>\n",
       "      <td>45.024</td>\n",
       "      <td>0.000</td>\n",
       "      <td>54.000</td>\n",
       "      <td>78.000</td>\n",
       "      <td>107.000</td>\n",
       "      <td>462.000</td>\n",
       "    </tr>\n",
       "  </tbody>\n",
       "</table>\n",
       "</div>"
      ],
      "text/plain": [
       "               count   mean    std   min    25%    50%     75%     max\n",
       "num_orders 4,416.000 84.423 45.024 0.000 54.000 78.000 107.000 462.000"
      ]
     },
     "metadata": {},
     "output_type": "display_data"
    }
   ],
   "source": [
    "# Let's study the data\n",
    "evaluate_df(data, False, False, False)"
   ]
  },
  {
   "cell_type": "markdown",
   "metadata": {},
   "source": [
    "There is one zero in the data. This will need to be taken into account when choosing a model"
   ]
  },
  {
   "cell_type": "code",
   "execution_count": 67,
   "metadata": {},
   "outputs": [
    {
     "data": {
      "text/plain": [
       "<AxesSubplot:xlabel='datetime'>"
      ]
     },
     "execution_count": 67,
     "metadata": {},
     "output_type": "execute_result"
    },
    {
     "data": {
      "image/png": "[encoded data removed]",
      "text/plain": [
       "<Figure size 864x576 with 1 Axes>"
      ]
     },
     "metadata": {},
     "output_type": "display_data"
    }
   ],
   "source": [
    "# plot a time series graph\n",
    "data.plot()"
   ]
  },
  {
   "cell_type": "markdown",
   "metadata": {},
   "source": [
    "Let's check that there are no gaps in the data (missed hours). To do this, let's calculate how many hours there should be between MAX and MIN hours and compare how many records we actually have."
   ]
  },
  {
   "cell_type": "code",
   "execution_count": 68,
   "metadata": {},
   "outputs": [
    {
     "data": {
      "text/plain": [
       "Timedelta('183 days 23:00:00')"
      ]
     },
     "execution_count": 68,
     "metadata": {},
     "output_type": "execute_result"
    }
   ],
   "source": [
    "data.index[-1]-data.index[0]"
   ]
  },
  {
   "cell_type": "code",
   "execution_count": 69,
   "metadata": {},
   "outputs": [
    {
     "data": {
      "text/plain": [
       "4416"
      ]
     },
     "execution_count": 69,
     "metadata": {},
     "output_type": "execute_result"
    }
   ],
   "source": [
    "# The number of hours in observations that should be\n",
    "183*24+23+1"
   ]
  },
  {
   "cell_type": "code",
   "execution_count": 70,
   "metadata": {},
   "outputs": [
    {
     "data": {
      "text/plain": [
       "4416"
      ]
     },
     "execution_count": 70,
     "metadata": {},
     "output_type": "execute_result"
    }
   ],
   "source": [
    "# Actual number of hours\n",
    "len(data)"
   ]
  },
  {
   "cell_type": "code",
   "execution_count": null,
   "metadata": {},
   "outputs": [],
   "source": []
  }
 ],
 "metadata": {
  "kernelspec": {
   "display_name": "Python 3 (ipykernel)",
   "language": "python",
   "name": "python3"
  },
  "language_info": {
   "codemirror_mode": {
    "name": "ipython",
    "version": 3
   },
   "file_extension": ".py",
   "mimetype": "text/x-python",
   "name": "python",
   "nbconvert_exporter": "python",
   "pygments_lexer": "ipython3",
   "version": "3.9.12"
  },
  "toc": {
   "base_numbering": 1,
   "nav_menu": {},
   "number_sections": true,
   "sideBar": true,
   "skip_h1_title": false,
   "title_cell": "Table of Contents",
   "title_sidebar": "Contents",
   "toc_cell": false,
   "toc_position": {
    "height": "calc(100% - 180px)",
    "left": "10px",
    "top": "150px",
    "width": "374.391px"
   },
   "toc_section_display": true,
   "toc_window_display": true
  },
  "varInspector": {
   "cols": {
    "lenName": 16,
    "lenType": 16,
    "lenVar": 40
   },
   "kernels_config": {
    "python": {
     "delete_cmd_postfix": "",
     "delete_cmd_prefix": "del ",
     "library": "var_list.py",
     "varRefreshCmd": "print(var_dic_list())"
    },
    "r": {
     "delete_cmd_postfix": ") ",
     "delete_cmd_prefix": "rm(",
     "library": "var_list.r",
     "varRefreshCmd": "cat(var_dic_list()) "
    }
   },
   "types_to_exclude": [
    "module",
    "function",
    "builtin_function_or_method",
    "instance",
    "_Feature"
   ],
   "window_display": false
  }
 },
 "nbformat": 4,
 "nbformat_minor": 2
}
